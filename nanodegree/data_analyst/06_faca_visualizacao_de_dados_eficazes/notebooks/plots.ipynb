{
 "cells": [
  {
   "cell_type": "code",
   "execution_count": 6,
   "metadata": {},
   "outputs": [],
   "source": [
    "#CARREGA AS LIBRARYS\n",
    "library(networkD3)\n",
    "library(jsonlite)\n",
    "library(magrittr)"
   ]
  },
  {
   "cell_type": "code",
   "execution_count": 9,
   "metadata": {},
   "outputs": [],
   "source": [
    "#CARREGA O ARQUIVO JSON\n",
    "Energy <- jsonlite::fromJSON(\"../data/vendas_olac_agg.json\")"
   ]
  },
  {
   "cell_type": "code",
   "execution_count": 29,
   "metadata": {},
   "outputs": [],
   "source": [
    "#SALVA O ARQUIVO\n",
    "sankeyNetwork(Links = Energy$links, Nodes = Energy$nodes, Source = \"source\",\n",
    "             Target = \"target\", Value = \"value\", NodeID = \"name\",\n",
    "             units = \"L\", fontSize = 12, nodeWidth = 30) %>% saveNetwork(file = '../graphs/sankey_diagram.html')"
   ]
  }
 ],
 "metadata": {
  "anaconda-cloud": {},
  "kernelspec": {
   "display_name": "R",
   "language": "R",
   "name": "ir"
  },
  "language_info": {
   "codemirror_mode": "r",
   "file_extension": ".r",
   "mimetype": "text/x-r-source",
   "name": "R",
   "pygments_lexer": "r",
   "version": "3.3.2"
  }
 },
 "nbformat": 4,
 "nbformat_minor": 2
}
