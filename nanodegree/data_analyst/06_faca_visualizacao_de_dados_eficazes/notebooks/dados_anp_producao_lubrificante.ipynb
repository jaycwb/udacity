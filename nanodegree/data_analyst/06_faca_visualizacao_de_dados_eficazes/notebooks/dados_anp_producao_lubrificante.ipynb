{
 "cells": [
  {
   "cell_type": "markdown",
   "metadata": {},
   "source": [
    "# #1. TRATAMENTO DOS DADOS"
   ]
  },
  {
   "cell_type": "code",
   "execution_count": 23,
   "metadata": {
    "collapsed": true
   },
   "outputs": [],
   "source": [
    "#CARREGA A(S) BIBLIOTECAS\n",
    "import pandas as pd\n",
    "import json"
   ]
  },
  {
   "cell_type": "code",
<<<<<<< HEAD
   "execution_count": 2,
||||||| merged common ancestors
   "execution_count": 7,
=======
   "execution_count": 31,
>>>>>>> temporary_work
   "metadata": {
    "scrolled": true
   },
   "outputs": [
    {
     "data": {
      "text/html": [
       "<div>\n",
       "<table border=\"1\" class=\"dataframe\">\n",
       "  <thead>\n",
       "    <tr style=\"text-align: right;\">\n",
       "      <th></th>\n",
       "      <th>CNPJ</th>\n",
       "      <th>Produtor</th>\n",
       "      <th>Município</th>\n",
       "      <th>UF</th>\n",
       "    </tr>\n",
       "  </thead>\n",
       "  <tbody>\n",
       "    <tr>\n",
       "      <th>0</th>\n",
       "      <td>57941890000153</td>\n",
       "      <td>AGECOM PRODUTOS DE PETRÓLEO LTDA.</td>\n",
       "      <td>MAUA</td>\n",
       "      <td>SP</td>\n",
       "    </tr>\n",
       "    <tr>\n",
       "      <th>1</th>\n",
       "      <td>3439153000128</td>\n",
       "      <td>BIOLUB QUÍMICA LTDA -ME</td>\n",
       "      <td>SOROCABA</td>\n",
       "      <td>SP</td>\n",
       "    </tr>\n",
       "    <tr>\n",
       "      <th>2</th>\n",
       "      <td>33194978000190</td>\n",
       "      <td>CASTROL BRASIL LTDA</td>\n",
       "      <td>RIO DE JANEIRO</td>\n",
       "      <td>RJ</td>\n",
       "    </tr>\n",
       "    <tr>\n",
       "      <th>3</th>\n",
       "      <td>45036670000104</td>\n",
       "      <td>CHEMLUB PRODUTOS QUÍMICOS LTDA</td>\n",
       "      <td>VALINHOS</td>\n",
       "      <td>SP</td>\n",
       "    </tr>\n",
       "    <tr>\n",
       "      <th>4</th>\n",
       "      <td>5524572001084</td>\n",
       "      <td>CHEVRON BRASIL LUBRIFICANTES LTDA.</td>\n",
       "      <td>DUQUE DE CAXIAS</td>\n",
       "      <td>RJ</td>\n",
       "    </tr>\n",
       "  </tbody>\n",
       "</table>\n",
       "</div>"
      ],
      "text/plain": [
       "             CNPJ                            Produtor        Município  UF\n",
       "0  57941890000153   AGECOM PRODUTOS DE PETRÓLEO LTDA.             MAUA  SP\n",
       "1   3439153000128             BIOLUB QUÍMICA LTDA -ME         SOROCABA  SP\n",
       "2  33194978000190                 CASTROL BRASIL LTDA   RIO DE JANEIRO  RJ\n",
       "3  45036670000104      CHEMLUB PRODUTOS QUÍMICOS LTDA         VALINHOS  SP\n",
       "4   5524572001084  CHEVRON BRASIL LUBRIFICANTES LTDA.  DUQUE DE CAXIAS  RJ"
      ]
     },
<<<<<<< HEAD
     "execution_count": 2,
||||||| merged common ancestors
     "execution_count": 7,
=======
     "execution_count": 31,
>>>>>>> temporary_work
     "metadata": {},
     "output_type": "execute_result"
    }
   ],
   "source": [
    "#CARREGA O ARQUIVO QUE CONTEM A LOCALIZAÇÃO DAS PLANTAS DE PRODUCAO DE ÓLEO LUBRIFICANTE EM SOLO BRASILEIRO\n",
    "plantas_producao = pd.read_excel(\"../data/boletim_1/Anexo_E.xlsx\", sheetname=\"30-Mapa_Planta_Prod_OLAC\")\n",
    "plantas_producao.head()"
   ]
  },
  {
   "cell_type": "code",
<<<<<<< HEAD
   "execution_count": 3,
   "metadata": {
    "collapsed": false
   },
||||||| merged common ancestors
   "execution_count": 9,
   "metadata": {
    "collapsed": false
   },
=======
   "execution_count": 32,
   "metadata": {},
>>>>>>> temporary_work
   "outputs": [
    {
     "name": "stdout",
     "output_type": "stream",
     "text": [
      "IPIRANGA PRODUTOS DE PETRÓLEO S.A - RJ\n"
     ]
    }
   ],
   "source": [
    "#CRIA UM DICIONÁRIO PARA ARMAZENAR O UF DAS PLANTAS DE PRODUCAO\n",
    "empresa_prod_uf = {}\n",
    "\n",
    "for index,row in plantas_producao.iterrows():\n",
    "    empresa = row['Produtor']\n",
    "    if empresa not in empresa_prod_uf:\n",
    "        empresa_prod_uf[empresa] = row['UF']\n",
    "    else:\n",
    "    #CASO UMA EMPRESA TENHA MAIS DE UMA PLANTA INDUSTRIAL, IMPRIMIR O NOME DA EMPRESA E A UF ONDE A PLANTA ESTÁ.    \n",
    "        print(empresa+\" - \"+row['UF']) # A IPIERANGA NESSE CASO POSSUI DUAS PLANTAS NO MESMO ESTADO (RJ)\n",
    "        continue"
   ]
  },
  {
   "cell_type": "code",
<<<<<<< HEAD
   "execution_count": 4,
   "metadata": {
    "collapsed": false
   },
||||||| merged common ancestors
   "execution_count": 12,
   "metadata": {
    "collapsed": false
   },
=======
   "execution_count": 33,
   "metadata": {},
>>>>>>> temporary_work
   "outputs": [
    {
     "data": {
      "text/html": [
       "<div>\n",
       "<table border=\"1\" class=\"dataframe\">\n",
       "  <thead>\n",
       "    <tr style=\"text-align: right;\">\n",
       "      <th></th>\n",
       "      <th>Data</th>\n",
       "      <th>Cód Regulado ANP</th>\n",
       "      <th>Produtor-Importador</th>\n",
       "      <th>Código do Produto</th>\n",
       "      <th>Descrição do Produto</th>\n",
       "      <th>Região do Destinatário</th>\n",
       "      <th>UF do Destinatário</th>\n",
       "      <th>Volume-Litros</th>\n",
       "    </tr>\n",
       "  </thead>\n",
       "  <tbody>\n",
       "    <tr>\n",
       "      <th>0</th>\n",
       "      <td>12/2016</td>\n",
       "      <td>200296</td>\n",
       "      <td>TG Indústria e Comércio de Lubrificantes e Gra...</td>\n",
       "      <td>620101002</td>\n",
       "      <td>ENGRENAGENS E SISTEMAS CIRCULATÓRIOS</td>\n",
       "      <td>SUL</td>\n",
       "      <td>PR</td>\n",
       "      <td>9828</td>\n",
       "    </tr>\n",
       "    <tr>\n",
       "      <th>1</th>\n",
       "      <td>12/2016</td>\n",
       "      <td>200296</td>\n",
       "      <td>TG Indústria e Comércio de Lubrificantes e Gra...</td>\n",
       "      <td>620101002</td>\n",
       "      <td>ENGRENAGENS E SISTEMAS CIRCULATÓRIOS</td>\n",
       "      <td>SUL</td>\n",
       "      <td>SC</td>\n",
       "      <td>800</td>\n",
       "    </tr>\n",
       "    <tr>\n",
       "      <th>2</th>\n",
       "      <td>12/2016</td>\n",
       "      <td>200296</td>\n",
       "      <td>TG Indústria e Comércio de Lubrificantes e Gra...</td>\n",
       "      <td>620501001</td>\n",
       "      <td>Ciclo Otto</td>\n",
       "      <td>SUL</td>\n",
       "      <td>PR</td>\n",
       "      <td>3685</td>\n",
       "    </tr>\n",
       "    <tr>\n",
       "      <th>3</th>\n",
       "      <td>12/2016</td>\n",
       "      <td>200296</td>\n",
       "      <td>TG Indústria e Comércio de Lubrificantes e Gra...</td>\n",
       "      <td>620501001</td>\n",
       "      <td>Ciclo Otto</td>\n",
       "      <td>SUL</td>\n",
       "      <td>RS</td>\n",
       "      <td>480</td>\n",
       "    </tr>\n",
       "    <tr>\n",
       "      <th>4</th>\n",
       "      <td>12/2016</td>\n",
       "      <td>200296</td>\n",
       "      <td>TG Indústria e Comércio de Lubrificantes e Gra...</td>\n",
       "      <td>620501001</td>\n",
       "      <td>Ciclo Otto</td>\n",
       "      <td>SUL</td>\n",
       "      <td>SC</td>\n",
       "      <td>5040</td>\n",
       "    </tr>\n",
       "  </tbody>\n",
       "</table>\n",
       "</div>"
      ],
      "text/plain": [
       "      Data  Cód Regulado ANP  \\\n",
       "0  12/2016            200296   \n",
       "1  12/2016            200296   \n",
       "2  12/2016            200296   \n",
       "3  12/2016            200296   \n",
       "4  12/2016            200296   \n",
       "\n",
       "                                 Produtor-Importador  Código do Produto  \\\n",
       "0  TG Indústria e Comércio de Lubrificantes e Gra...          620101002   \n",
       "1  TG Indústria e Comércio de Lubrificantes e Gra...          620101002   \n",
       "2  TG Indústria e Comércio de Lubrificantes e Gra...          620501001   \n",
       "3  TG Indústria e Comércio de Lubrificantes e Gra...          620501001   \n",
       "4  TG Indústria e Comércio de Lubrificantes e Gra...          620501001   \n",
       "\n",
       "                   Descrição do Produto Região do Destinatário  \\\n",
       "0  ENGRENAGENS E SISTEMAS CIRCULATÓRIOS                    SUL   \n",
       "1  ENGRENAGENS E SISTEMAS CIRCULATÓRIOS                    SUL   \n",
       "2                            Ciclo Otto                    SUL   \n",
       "3                            Ciclo Otto                    SUL   \n",
       "4                            Ciclo Otto                    SUL   \n",
       "\n",
       "  UF do Destinatário  Volume-Litros  \n",
       "0                 PR           9828  \n",
       "1                 SC            800  \n",
       "2                 PR           3685  \n",
       "3                 RS            480  \n",
       "4                 SC           5040  "
      ]
     },
<<<<<<< HEAD
     "execution_count": 4,
||||||| merged common ancestors
     "execution_count": 12,
=======
     "execution_count": 33,
>>>>>>> temporary_work
     "metadata": {},
     "output_type": "execute_result"
    }
   ],
   "source": [
    "#Vendas nacionais de OLAC pelos Produtores e Importadores\n",
    "#A COLUNA PRODUTOR-IMPORTADOR POSSUI A INFORMAÇÃÕ DE UMA EMPRESA QUE DECLARA UMA OPERAÇÃO DE COMERCIALIZAÇÃO À ANP.\n",
    "#TODAVIA, ESSE PRODUTO COMERCIALIZADO PODE TER A SEGUINTE ORIGEM:\n",
    "### 1. SER PRODUZIDO EM PLANTA INDUSTRIAL PRÓPRIA EM SOLO BRASILEIRO.\n",
    "### 2. SER PRODUZIDO EM PLANTA INDUSTRIAL DE TERCEIRO EM SOLO BRASILEIRO.\n",
    "### 3. SER PRODUZID FORA DO BRASIL (PLANTA PRÓPRIA OU NÃO.)\n",
    "vendas = pd.read_excel(\"../data/boletim_1/Anexo_H.xlsx\", sheetname=\"41-Vendas OLAC Geral\")\n",
    "vendas.head(5)"
   ]
  },
  {
   "cell_type": "code",
<<<<<<< HEAD
   "execution_count": 5,
||||||| merged common ancestors
   "execution_count": 13,
=======
   "execution_count": 34,
>>>>>>> temporary_work
   "metadata": {
    "collapsed": true
   },
   "outputs": [],
   "source": [
    "#TROCAR O NOME DA EMPRESA (PRODUTOR-IMPORTADOR) PELO UF ONDE ESTÁ LOCALIZADO A PLANTA DE PRODUÇÃO.\n",
    "vendas['Produtor-Importador'] = vendas['Produtor-Importador'].map(empresa_prod_uf)"
   ]
  },
  {
   "cell_type": "code",
<<<<<<< HEAD
   "execution_count": 6,
||||||| merged common ancestors
   "execution_count": 15,
=======
   "execution_count": 35,
>>>>>>> temporary_work
   "metadata": {
    "scrolled": true
   },
   "outputs": [
    {
     "data": {
      "text/plain": [
       "9848"
      ]
     },
<<<<<<< HEAD
     "execution_count": 6,
||||||| merged common ancestors
     "execution_count": 15,
=======
     "execution_count": 35,
>>>>>>> temporary_work
     "metadata": {},
     "output_type": "execute_result"
    }
   ],
   "source": [
    "#NÚMERO DE REGISTROS DE DECLARAÇÃO DE COMERCIALIZAÇÃO DE EMPRESAS QUE NÃO PRODUZIRAM EM PLANTA PRÓPRIA NO BRASIL OU SÃO \n",
    "#CONSIDERADAS IMPORTADORAS\n",
    "vendas['Produtor-Importador'].isnull().sum()"
   ]
  },
  {
   "cell_type": "code",
<<<<<<< HEAD
   "execution_count": 7,
   "metadata": {
    "collapsed": false
   },
||||||| merged common ancestors
   "execution_count": 27,
   "metadata": {
    "collapsed": false
   },
=======
   "execution_count": 36,
   "metadata": {},
>>>>>>> temporary_work
   "outputs": [
    {
     "data": {
      "text/plain": [
       "'26.14%'"
      ]
     },
<<<<<<< HEAD
     "execution_count": 7,
||||||| merged common ancestors
     "execution_count": 27,
=======
     "execution_count": 36,
>>>>>>> temporary_work
     "metadata": {},
     "output_type": "execute_result"
    }
   ],
   "source": [
    "#PERCENTUAL DE REGISTROS DE DECLARAÇÃO DE COMERCIALIZAÇÃO QUE SÃO DE EMPRESAS QUE NÃO PRODUZIRAM EM PLANTA PRÓPRIA NO BRASIL OU SÃO \n",
    "#CONSIDERADAS IMPORTADORAS\n",
    "str(round(vendas['Produtor-Importador'].isnull().sum()/vendas['Produtor-Importador'].shape[0]*100,2))+\"%\""
   ]
  },
  {
   "cell_type": "code",
<<<<<<< HEAD
   "execution_count": 8,
||||||| merged common ancestors
   "execution_count": 31,
=======
   "execution_count": 37,
>>>>>>> temporary_work
   "metadata": {
    "scrolled": true
   },
   "outputs": [],
   "source": [
    "#SOMA DOS VOLUMES DE COMERCIALIZACAO DE EMPRESAS DETENTORAS & PRODUTORAS\n",
    "count_volume_detentor_produtor = 0\n",
    "\n",
    "#SOMA DOS VOLUMES DE EMPRESAS QUE SÃO DETENTORAS/TERCERIZADORAS OU DETENTORAS/IMPORTADORAS\n",
    "count_volume_outros = 0\n",
    "for index,row in vendas.iterrows():\n",
    "    if type(row['Produtor-Importador']) != str:\n",
    "        count_volume_outros += row['Volume-Litros']\n",
    "    else:\n",
    "        count_volume_detentor_produtor += row['Volume-Litros']"
   ]
  },
  {
   "cell_type": "code",
<<<<<<< HEAD
   "execution_count": 9,
   "metadata": {
    "collapsed": false
   },
||||||| merged common ancestors
   "execution_count": 47,
   "metadata": {
    "collapsed": false
   },
=======
   "execution_count": 38,
   "metadata": {},
>>>>>>> temporary_work
   "outputs": [
    {
     "name": "stdout",
     "output_type": "stream",
     "text": [
      "Volume total de empresas Detentoras/Produtoras 1131775.986 m³\n",
      "Volume total de empresas Detentoras/Tercerizadoras/Importadoras 97916.397 m³\n"
     ]
    }
   ],
   "source": [
    "print(\"Volume total de empresas Detentoras/Produtoras \"+str(count_volume_detentor_produtor/1000)+ \" m³\")\n",
    "print(\"Volume total de empresas Detentoras/Tercerizadoras/Importadoras \"+str(count_volume_outros/1000)+ \" m³\")"
   ]
  },
  {
   "cell_type": "code",
<<<<<<< HEAD
   "execution_count": 10,
   "metadata": {
    "collapsed": false
   },
||||||| merged common ancestors
   "execution_count": 52,
   "metadata": {
    "collapsed": false
   },
=======
   "execution_count": 39,
   "metadata": {},
>>>>>>> temporary_work
   "outputs": [
    {
     "data": {
      "text/plain": [
       "'7.96%'"
      ]
     },
<<<<<<< HEAD
     "execution_count": 10,
||||||| merged common ancestors
     "execution_count": 52,
=======
     "execution_count": 39,
>>>>>>> temporary_work
     "metadata": {},
     "output_type": "execute_result"
    }
   ],
   "source": [
    "#PERCENTUAL EM VOLUME DOS REGISTROS QUE NÃO PODE SE INFERIR QUAL A ORIGEM DA PRODUÇÃO, APENAS O DESTINATÁRIO.\n",
    "str(round(count_volume_outros/(count_volume_outros+count_volume_detentor_produtor)*100,2))+\"%\""
   ]
  },
  {
   "cell_type": "code",
<<<<<<< HEAD
   "execution_count": 11,
||||||| merged common ancestors
   "execution_count": 53,
=======
   "execution_count": 40,
>>>>>>> temporary_work
   "metadata": {
    "collapsed": true
   },
   "outputs": [],
   "source": [
    "#LISTA PARA ABRIGAR O INDEX DOS REGISTROS QUE NÃO POSSUEM A IDENTIFICAÇÃO DA UF DA ORIGEM DA PRODUÇÃO\n",
    "list_index_nan = []\n",
    "for index,row in vendas.iterrows():\n",
    "    if type(row['Produtor-Importador']) != str:\n",
    "        list_index_nan.append(index)"
   ]
  },
  {
   "cell_type": "code",
<<<<<<< HEAD
   "execution_count": 12,
||||||| merged common ancestors
   "execution_count": 67,
=======
   "execution_count": 41,
>>>>>>> temporary_work
   "metadata": {
    "scrolled": true
   },
   "outputs": [],
   "source": [
    "#DELETAR DO DATAFRAME DOS OS REGISTROS QUE NÃO POSSUEM A IDENTIFICAÇÃO DA UF DA ORIGEM DA PRODUÇÃO\n",
    "vendas_uf = vendas[vendas['Produtor-Importador'].notnull()]"
   ]
  },
  {
   "cell_type": "code",
<<<<<<< HEAD
   "execution_count": 13,
   "metadata": {
    "collapsed": false
   },
||||||| merged common ancestors
   "execution_count": 68,
   "metadata": {
    "collapsed": false
   },
=======
   "execution_count": 42,
   "metadata": {},
>>>>>>> temporary_work
   "outputs": [],
   "source": [
    "#RESETAR O INDEX DO DATAFRAME\n",
    "vendas_uf.reset_index(inplace=True)\n",
    "del vendas_uf['index']"
   ]
  },
  {
   "cell_type": "code",
<<<<<<< HEAD
   "execution_count": 14,
   "metadata": {
    "collapsed": false
   },
||||||| merged common ancestors
   "execution_count": 72,
   "metadata": {
    "collapsed": false
   },
=======
   "execution_count": 43,
   "metadata": {},
>>>>>>> temporary_work
   "outputs": [],
   "source": [
    "vendas_uf.columns = ['Data', 'Cód Regulado ANP', 'UF_origem',\n",
    "       'Código do Produto', 'Descrição do Produto', 'Região do Destinatário',\n",
    "       'UF_destino', 'Volume-Litros']"
   ]
  },
  {
   "cell_type": "code",
<<<<<<< HEAD
   "execution_count": 15,
   "metadata": {
    "collapsed": false
   },
||||||| merged common ancestors
   "execution_count": 76,
   "metadata": {
    "collapsed": false
   },
=======
   "execution_count": 44,
   "metadata": {},
>>>>>>> temporary_work
   "outputs": [],
   "source": [
    "#CRIA UMA LISTA COM TODAS AS UF'S\n",
    "lista_UF = vendas_uf['UF_destino'].unique().tolist()\n",
    "\n",
    "#ORGANIZA A LISTA POR ORDEM ALFABÉTICA\n",
    "lista_UF.sort()"
   ]
  },
  {
   "cell_type": "code",
<<<<<<< HEAD
   "execution_count": 16,
   "metadata": {
    "collapsed": false
   },
||||||| merged common ancestors
   "execution_count": 82,
   "metadata": {
    "collapsed": false
   },
=======
   "execution_count": 45,
   "metadata": {},
>>>>>>> temporary_work
   "outputs": [],
   "source": [
    "#LISTA DE DICIONÁRIOS\n",
    "lista_dict_uf = []\n",
    "for uf in lista_UF:\n",
    "    dict_uf = {\"name\": uf}\n",
    "    lista_dict_uf.append(dict_uf)"
   ]
  },
  {
   "cell_type": "code",
<<<<<<< HEAD
   "execution_count": 17,
||||||| merged common ancestors
   "execution_count": 90,
=======
   "execution_count": 46,
>>>>>>> temporary_work
   "metadata": {
    "collapsed": true
   },
   "outputs": [],
   "source": [
    "#CRIA UM DICIONÁRIO PARA CODIFICAR AS UF'S\n",
    "uf_codigo = {}\n",
    "count = 0\n",
    "\n",
    "for uf in lista_UF:\n",
    "    uf_codigo[uf] = count\n",
    "    count += 1"
   ]
  },
  {
   "cell_type": "code",
<<<<<<< HEAD
   "execution_count": 18,
   "metadata": {
    "collapsed": false
   },
||||||| merged common ancestors
   "execution_count": 93,
   "metadata": {
    "collapsed": false
   },
=======
   "execution_count": 47,
   "metadata": {},
>>>>>>> temporary_work
   "outputs": [
    {
     "name": "stderr",
     "output_type": "stream",
     "text": [
      "C:\\Users\\ferraz\\Anaconda3\\lib\\site-packages\\ipykernel\\__main__.py:2: SettingWithCopyWarning: \n",
      "A value is trying to be set on a copy of a slice from a DataFrame.\n",
      "Try using .loc[row_indexer,col_indexer] = value instead\n",
      "\n",
      "See the caveats in the documentation: http://pandas.pydata.org/pandas-docs/stable/indexing.html#indexing-view-versus-copy\n",
      "  from ipykernel import kernelapp as app\n",
      "C:\\Users\\ferraz\\Anaconda3\\lib\\site-packages\\ipykernel\\__main__.py:3: SettingWithCopyWarning: \n",
      "A value is trying to be set on a copy of a slice from a DataFrame.\n",
      "Try using .loc[row_indexer,col_indexer] = value instead\n",
      "\n",
      "See the caveats in the documentation: http://pandas.pydata.org/pandas-docs/stable/indexing.html#indexing-view-versus-copy\n",
      "  app.launch_new_instance()\n"
     ]
    }
   ],
   "source": [
    "#CODIFICA AS COLUNAS UTILIZANDO O DICIONÁRIO uf_codigo\n",
    "vendas_uf['UF_origem'] = vendas_uf['UF_origem'].map(uf_codigo)\n",
    "vendas_uf['UF_destino'] = vendas_uf['UF_destino'].map(uf_codigo)"
   ]
  },
  {
   "cell_type": "code",
<<<<<<< HEAD
   "execution_count": 19,
   "metadata": {
    "collapsed": false
   },
||||||| merged common ancestors
   "execution_count": 95,
   "metadata": {
    "collapsed": false
   },
=======
   "execution_count": 48,
   "metadata": {},
>>>>>>> temporary_work
   "outputs": [
    {
     "data": {
      "text/html": [
       "<div>\n",
       "<table border=\"1\" class=\"dataframe\">\n",
       "  <thead>\n",
       "    <tr style=\"text-align: right;\">\n",
       "      <th></th>\n",
       "      <th>Data</th>\n",
       "      <th>Cód Regulado ANP</th>\n",
       "      <th>UF_origem</th>\n",
       "      <th>Código do Produto</th>\n",
       "      <th>Descrição do Produto</th>\n",
       "      <th>Região do Destinatário</th>\n",
       "      <th>UF_destino</th>\n",
       "      <th>Volume-Litros</th>\n",
       "    </tr>\n",
       "  </thead>\n",
       "  <tbody>\n",
       "    <tr>\n",
       "      <th>0</th>\n",
       "      <td>12/2016</td>\n",
       "      <td>200296</td>\n",
       "      <td>17</td>\n",
       "      <td>620101002</td>\n",
       "      <td>ENGRENAGENS E SISTEMAS CIRCULATÓRIOS</td>\n",
       "      <td>SUL</td>\n",
       "      <td>17</td>\n",
       "      <td>9828</td>\n",
       "    </tr>\n",
       "    <tr>\n",
       "      <th>1</th>\n",
       "      <td>12/2016</td>\n",
       "      <td>200296</td>\n",
       "      <td>17</td>\n",
       "      <td>620101002</td>\n",
       "      <td>ENGRENAGENS E SISTEMAS CIRCULATÓRIOS</td>\n",
       "      <td>SUL</td>\n",
       "      <td>23</td>\n",
       "      <td>800</td>\n",
       "    </tr>\n",
       "    <tr>\n",
       "      <th>2</th>\n",
       "      <td>12/2016</td>\n",
       "      <td>200296</td>\n",
       "      <td>17</td>\n",
       "      <td>620501001</td>\n",
       "      <td>Ciclo Otto</td>\n",
       "      <td>SUL</td>\n",
       "      <td>17</td>\n",
       "      <td>3685</td>\n",
       "    </tr>\n",
       "    <tr>\n",
       "      <th>3</th>\n",
       "      <td>12/2016</td>\n",
       "      <td>200296</td>\n",
       "      <td>17</td>\n",
       "      <td>620501001</td>\n",
       "      <td>Ciclo Otto</td>\n",
       "      <td>SUL</td>\n",
       "      <td>22</td>\n",
       "      <td>480</td>\n",
       "    </tr>\n",
       "    <tr>\n",
       "      <th>4</th>\n",
       "      <td>12/2016</td>\n",
       "      <td>200296</td>\n",
       "      <td>17</td>\n",
       "      <td>620501001</td>\n",
       "      <td>Ciclo Otto</td>\n",
       "      <td>SUL</td>\n",
       "      <td>23</td>\n",
       "      <td>5040</td>\n",
       "    </tr>\n",
       "  </tbody>\n",
       "</table>\n",
       "</div>"
      ],
      "text/plain": [
       "      Data  Cód Regulado ANP  UF_origem  Código do Produto  \\\n",
       "0  12/2016            200296         17          620101002   \n",
       "1  12/2016            200296         17          620101002   \n",
       "2  12/2016            200296         17          620501001   \n",
       "3  12/2016            200296         17          620501001   \n",
       "4  12/2016            200296         17          620501001   \n",
       "\n",
       "                   Descrição do Produto Região do Destinatário  UF_destino  \\\n",
       "0  ENGRENAGENS E SISTEMAS CIRCULATÓRIOS                    SUL          17   \n",
       "1  ENGRENAGENS E SISTEMAS CIRCULATÓRIOS                    SUL          23   \n",
       "2                            Ciclo Otto                    SUL          17   \n",
       "3                            Ciclo Otto                    SUL          22   \n",
       "4                            Ciclo Otto                    SUL          23   \n",
       "\n",
       "   Volume-Litros  \n",
       "0           9828  \n",
       "1            800  \n",
       "2           3685  \n",
       "3            480  \n",
       "4           5040  "
      ]
     },
<<<<<<< HEAD
     "execution_count": 19,
||||||| merged common ancestors
     "execution_count": 95,
=======
     "execution_count": 48,
>>>>>>> temporary_work
     "metadata": {},
     "output_type": "execute_result"
    }
   ],
   "source": [
    "#VERIFICACÃO DA CODIFICACAO\n",
    "vendas_uf.head()"
   ]
  },
  {
   "cell_type": "code",
<<<<<<< HEAD
   "execution_count": 20,
||||||| merged common ancestors
   "execution_count": 96,
=======
   "execution_count": 50,
   "metadata": {},
   "outputs": [],
   "source": [
    "#CRIA UMA LISTA COM A IDENTIFICACAO DOS ESTADOS DE ORIGEM E DE DESTINO\n",
    "lista_source = []\n",
    "lista_target = []\n",
    "for index,data in vendas_uf.iterrows():\n",
    "    if data['UF_origem'] not in lista_source:\n",
    "        lista_source.append(data['UF_origem'])\n",
    "    if data['UF_destino'] not in lista_target:\n",
    "        lista_target.append(data['UF_destino'])\n"
   ]
  },
  {
   "cell_type": "code",
   "execution_count": 53,
   "metadata": {},
   "outputs": [
    {
     "name": "stdout",
     "output_type": "stream",
     "text": [
      "source: [17, 25, 18, 10, 4, 12, 22, 2]\n",
      "target: [17, 23, 22, 25, 8, 6, 4, 5, 9, 14, 15, 16, 19, 24, 2, 7, 10, 18, 13, 12, 0, 20, 11, 1, 26, 21, 3]\n"
     ]
    }
   ],
   "source": [
    "print(\"source:\", lista_source)\n",
    "print(\"target:\", lista_target)"
   ]
  },
  {
   "cell_type": "code",
   "execution_count": 54,
   "metadata": {},
   "outputs": [],
   "source": [
    "#CRIA UM DICIONÁRIO ONDE IRÁ RECEBER A INFORMAÇÃO AGREGADA DAS MOVIMENTAÇÕES.\n",
    "#O OBJETIVO É TER UM REGISTRO ÚNICO DE MOVIMENTAÇÃO (SOMÁTORIO) ENTRE DUAS ENTIDADES\n",
    "nome_dict = []\n",
    "for UFcod in lista_source:\n",
    "    name = UFcod\n",
    "    nome_dict.append(name)\n",
    "dict_list_source={ name:{} for name in nome_dict}"
   ]
  },
  {
   "cell_type": "code",
   "execution_count": 57,
   "metadata": {},
   "outputs": [],
   "source": [
    "#ALIMENTA O DICIONÁRIO COM OS DADOS AGREGADOS\n",
    "for index,data in vendas_uf.iterrows():\n",
    "    for source in dict_list_source:\n",
    "        if data['UF_origem'] == source:\n",
    "            if data['UF_destino'] not in dict_list_source[source]:\n",
    "                dict_list_source[source][data['UF_destino']] = data['Volume-Litros']\n",
    "            else:\n",
    "                dict_list_source[source][data['UF_destino']] += data['Volume-Litros']   \n",
    "    "
   ]
  },
  {
   "cell_type": "code",
   "execution_count": 58,
   "metadata": {
    "scrolled": false
   },
   "outputs": [
    {
     "data": {
      "text/plain": [
       "{2: {0: 44217, 2: 610813, 13: 4192, 20: 520438, 21: 224457},\n",
       " 4: {1: 288,\n",
       "  2: 360,\n",
       "  4: 1576303,\n",
       "  5: 231547,\n",
       "  7: 120,\n",
       "  8: 416,\n",
       "  10: 63173,\n",
       "  11: 1490,\n",
       "  13: 240,\n",
       "  14: 1060,\n",
       "  16: 307622,\n",
       "  17: 292,\n",
       "  18: 4800,\n",
       "  19: 114900},\n",
       " 10: {0: 287527,\n",
       "  1: 857948,\n",
       "  2: 863416,\n",
       "  3: 114704,\n",
       "  4: 5082052,\n",
       "  5: 1933558,\n",
       "  6: 2022515,\n",
       "  7: 2755753,\n",
       "  8: 4616858,\n",
       "  9: 1987397,\n",
       "  10: 26391539,\n",
       "  11: 2829555,\n",
       "  12: 5589156,\n",
       "  13: 2862358,\n",
       "  14: 1178812,\n",
       "  15: 3279734,\n",
       "  16: 970156,\n",
       "  17: 8892039,\n",
       "  18: 5355512,\n",
       "  19: 1281716,\n",
       "  20: 867851,\n",
       "  21: 220852,\n",
       "  22: 6174731,\n",
       "  23: 4896386,\n",
       "  24: 499352,\n",
       "  25: 25148474,\n",
       "  26: 816056},\n",
       " 12: {8: 1000, 11: 327224, 12: 389336, 13: 57892, 20: 129600, 25: 155388},\n",
       " 17: {0: 696,\n",
       "  1: 11672,\n",
       "  2: 154988,\n",
       "  3: 89464,\n",
       "  4: 486886,\n",
       "  5: 317768,\n",
       "  6: 248125,\n",
       "  7: 107108,\n",
       "  8: 327080,\n",
       "  9: 313160,\n",
       "  10: 423598,\n",
       "  11: 213166,\n",
       "  12: 568844,\n",
       "  13: 180298,\n",
       "  14: 181692,\n",
       "  15: 439738,\n",
       "  16: 103908,\n",
       "  17: 3511061,\n",
       "  18: 192024,\n",
       "  19: 245188,\n",
       "  20: 373134,\n",
       "  21: 13360,\n",
       "  22: 974880,\n",
       "  23: 2077832,\n",
       "  24: 50488,\n",
       "  25: 357828,\n",
       "  26: 25596},\n",
       " 18: {0: 1755835,\n",
       "  1: 6506602,\n",
       "  2: 14389709,\n",
       "  3: 2341555,\n",
       "  4: 37360287,\n",
       "  5: 18976262,\n",
       "  6: 5746370,\n",
       "  7: 17324671,\n",
       "  8: 33684827,\n",
       "  9: 15182942,\n",
       "  10: 90919520,\n",
       "  11: 19225601,\n",
       "  12: 27710153,\n",
       "  13: 33385580,\n",
       "  14: 8115316,\n",
       "  15: 23177224,\n",
       "  16: 6183307,\n",
       "  17: 64170250,\n",
       "  18: 80647887,\n",
       "  19: 8060604,\n",
       "  20: 10811700,\n",
       "  21: 1459728,\n",
       "  22: 62858354,\n",
       "  23: 37334264,\n",
       "  24: 5537638,\n",
       "  25: 225468537,\n",
       "  26: 6184217},\n",
       " 22: {5: 20, 17: 400, 22: 148973, 23: 440, 24: 20},\n",
       " 25: {0: 495408,\n",
       "  1: 523703,\n",
       "  2: 1384608,\n",
       "  3: 28126,\n",
       "  4: 4241925,\n",
       "  5: 1422417,\n",
       "  6: 1748056,\n",
       "  7: 937765,\n",
       "  8: 6274321,\n",
       "  9: 3125227,\n",
       "  10: 11088861,\n",
       "  11: 1792971,\n",
       "  12: 2601554,\n",
       "  13: 5020642,\n",
       "  14: 745491,\n",
       "  15: 1390405,\n",
       "  16: 1279375,\n",
       "  17: 8686633,\n",
       "  18: 4972109,\n",
       "  19: 736167,\n",
       "  20: 665010,\n",
       "  21: 77557,\n",
       "  22: 6327616,\n",
       "  23: 8257095,\n",
       "  24: 607495,\n",
       "  25: 56659607,\n",
       "  26: 1484292}}"
      ]
     },
     "execution_count": 58,
     "metadata": {},
     "output_type": "execute_result"
    }
   ],
   "source": [
    "#VISUALIZAR A ESTRUTURA DO DICIONÁRIO CRIADO\n",
    "dict_list_source"
   ]
  },
  {
   "cell_type": "code",
   "execution_count": 59,
   "metadata": {},
   "outputs": [
    {
     "name": "stdout",
     "output_type": "stream",
     "text": [
      "source: 17 => target: 0 => value: 696\n",
      "source: 17 => target: 1 => value: 11672\n",
      "source: 17 => target: 2 => value: 154988\n",
      "source: 17 => target: 3 => value: 89464\n",
      "source: 17 => target: 4 => value: 486886\n",
      "source: 17 => target: 5 => value: 317768\n",
      "source: 17 => target: 6 => value: 248125\n",
      "source: 17 => target: 7 => value: 107108\n",
      "source: 17 => target: 8 => value: 327080\n",
      "source: 17 => target: 9 => value: 313160\n",
      "source: 17 => target: 10 => value: 423598\n",
      "source: 17 => target: 11 => value: 213166\n",
      "source: 17 => target: 12 => value: 568844\n",
      "source: 17 => target: 13 => value: 180298\n",
      "source: 17 => target: 14 => value: 181692\n",
      "source: 17 => target: 15 => value: 439738\n",
      "source: 17 => target: 16 => value: 103908\n",
      "source: 17 => target: 17 => value: 3511061\n",
      "source: 17 => target: 18 => value: 192024\n",
      "source: 17 => target: 19 => value: 245188\n",
      "source: 17 => target: 20 => value: 373134\n",
      "source: 17 => target: 21 => value: 13360\n",
      "source: 17 => target: 22 => value: 974880\n",
      "source: 17 => target: 23 => value: 2077832\n",
      "source: 17 => target: 24 => value: 50488\n",
      "source: 17 => target: 25 => value: 357828\n",
      "source: 17 => target: 26 => value: 25596\n",
      "source: 18 => target: 0 => value: 1755835\n",
      "source: 18 => target: 1 => value: 6506602\n",
      "source: 18 => target: 2 => value: 14389709\n",
      "source: 18 => target: 3 => value: 2341555\n",
      "source: 18 => target: 4 => value: 37360287\n",
      "source: 18 => target: 5 => value: 18976262\n",
      "source: 18 => target: 6 => value: 5746370\n",
      "source: 18 => target: 7 => value: 17324671\n",
      "source: 18 => target: 8 => value: 33684827\n",
      "source: 18 => target: 9 => value: 15182942\n",
      "source: 18 => target: 10 => value: 90919520\n",
      "source: 18 => target: 11 => value: 19225601\n",
      "source: 18 => target: 12 => value: 27710153\n",
      "source: 18 => target: 13 => value: 33385580\n",
      "source: 18 => target: 14 => value: 8115316\n",
      "source: 18 => target: 15 => value: 23177224\n",
      "source: 18 => target: 16 => value: 6183307\n",
      "source: 18 => target: 17 => value: 64170250\n",
      "source: 18 => target: 18 => value: 80647887\n",
      "source: 18 => target: 19 => value: 8060604\n",
      "source: 18 => target: 20 => value: 10811700\n",
      "source: 18 => target: 21 => value: 1459728\n",
      "source: 18 => target: 22 => value: 62858354\n",
      "source: 18 => target: 23 => value: 37334264\n",
      "source: 18 => target: 24 => value: 5537638\n",
      "source: 18 => target: 25 => value: 225468537\n",
      "source: 18 => target: 26 => value: 6184217\n",
      "source: 4 => target: 1 => value: 288\n",
      "source: 4 => target: 2 => value: 360\n",
      "source: 4 => target: 4 => value: 1576303\n",
      "source: 4 => target: 5 => value: 231547\n",
      "source: 4 => target: 7 => value: 120\n",
      "source: 4 => target: 8 => value: 416\n",
      "source: 4 => target: 10 => value: 63173\n",
      "source: 4 => target: 11 => value: 1490\n",
      "source: 4 => target: 13 => value: 240\n",
      "source: 4 => target: 14 => value: 1060\n",
      "source: 4 => target: 16 => value: 307622\n",
      "source: 4 => target: 17 => value: 292\n",
      "source: 4 => target: 18 => value: 4800\n",
      "source: 4 => target: 19 => value: 114900\n",
      "source: 22 => target: 24 => value: 20\n",
      "source: 22 => target: 17 => value: 400\n",
      "source: 22 => target: 5 => value: 20\n",
      "source: 22 => target: 22 => value: 148973\n",
      "source: 22 => target: 23 => value: 440\n",
      "source: 25 => target: 0 => value: 495408\n",
      "source: 25 => target: 1 => value: 523703\n",
      "source: 25 => target: 2 => value: 1384608\n",
      "source: 25 => target: 3 => value: 28126\n",
      "source: 25 => target: 4 => value: 4241925\n",
      "source: 25 => target: 5 => value: 1422417\n",
      "source: 25 => target: 6 => value: 1748056\n",
      "source: 25 => target: 7 => value: 937765\n",
      "source: 25 => target: 8 => value: 6274321\n",
      "source: 25 => target: 9 => value: 3125227\n",
      "source: 25 => target: 10 => value: 11088861\n",
      "source: 25 => target: 11 => value: 1792971\n",
      "source: 25 => target: 12 => value: 2601554\n",
      "source: 25 => target: 13 => value: 5020642\n",
      "source: 25 => target: 14 => value: 745491\n",
      "source: 25 => target: 15 => value: 1390405\n",
      "source: 25 => target: 16 => value: 1279375\n",
      "source: 25 => target: 17 => value: 8686633\n",
      "source: 25 => target: 18 => value: 4972109\n",
      "source: 25 => target: 19 => value: 736167\n",
      "source: 25 => target: 20 => value: 665010\n",
      "source: 25 => target: 21 => value: 77557\n",
      "source: 25 => target: 22 => value: 6327616\n",
      "source: 25 => target: 23 => value: 8257095\n",
      "source: 25 => target: 24 => value: 607495\n",
      "source: 25 => target: 25 => value: 56659607\n",
      "source: 25 => target: 26 => value: 1484292\n",
      "source: 10 => target: 0 => value: 287527\n",
      "source: 10 => target: 1 => value: 857948\n",
      "source: 10 => target: 2 => value: 863416\n",
      "source: 10 => target: 3 => value: 114704\n",
      "source: 10 => target: 4 => value: 5082052\n",
      "source: 10 => target: 5 => value: 1933558\n",
      "source: 10 => target: 6 => value: 2022515\n",
      "source: 10 => target: 7 => value: 2755753\n",
      "source: 10 => target: 8 => value: 4616858\n",
      "source: 10 => target: 9 => value: 1987397\n",
      "source: 10 => target: 10 => value: 26391539\n",
      "source: 10 => target: 11 => value: 2829555\n",
      "source: 10 => target: 12 => value: 5589156\n",
      "source: 10 => target: 13 => value: 2862358\n",
      "source: 10 => target: 14 => value: 1178812\n",
      "source: 10 => target: 15 => value: 3279734\n",
      "source: 10 => target: 16 => value: 970156\n",
      "source: 10 => target: 17 => value: 8892039\n",
      "source: 10 => target: 18 => value: 5355512\n",
      "source: 10 => target: 19 => value: 1281716\n",
      "source: 10 => target: 20 => value: 867851\n",
      "source: 10 => target: 21 => value: 220852\n",
      "source: 10 => target: 22 => value: 6174731\n",
      "source: 10 => target: 23 => value: 4896386\n",
      "source: 10 => target: 24 => value: 499352\n",
      "source: 10 => target: 25 => value: 25148474\n",
      "source: 10 => target: 26 => value: 816056\n",
      "source: 12 => target: 20 => value: 129600\n",
      "source: 12 => target: 8 => value: 1000\n",
      "source: 12 => target: 25 => value: 155388\n",
      "source: 12 => target: 11 => value: 327224\n",
      "source: 12 => target: 12 => value: 389336\n",
      "source: 12 => target: 13 => value: 57892\n",
      "source: 2 => target: 0 => value: 44217\n",
      "source: 2 => target: 2 => value: 610813\n",
      "source: 2 => target: 20 => value: 520438\n",
      "source: 2 => target: 21 => value: 224457\n",
      "source: 2 => target: 13 => value: 4192\n"
     ]
    }
   ],
   "source": [
    "#IMPRESSÃO DOS DADOS AGREGADOS\n",
    "for key,values in dict_list_source.items():\n",
    "    for val in values.items():\n",
    "        print('source: '+str(key)+\" => \"+\"target: \"+str(val[0])+\" => \"+\"value: \"+str(val[1]))"
   ]
  },
  {
   "cell_type": "code",
   "execution_count": 60,
>>>>>>> temporary_work
   "metadata": {
    "collapsed": true
   },
   "outputs": [],
   "source": [
    "#CRIAR UMA LISTA DE DICIONÁRIOS PARA RECEBER OS DADOS AGREGADOS DE LIGAÇÃO ENTRE OS NÓS\n",
    "lista_dict_agg = []\n",
    "for key,values in dict_list_source.items():\n",
    "    for val in values.items():\n",
    "        dict_links = {\"source\": key, \"target\": val[0], \"value\": val[1]}\n",
    "        lista_dict_agg.append(dict_links)"
   ]
  },
  {
   "cell_type": "code",
   "execution_count": 61,
   "metadata": {},
   "outputs": [
    {
     "data": {
      "text/plain": [
       "[{'source': 17, 'target': 0, 'value': 696},\n",
       " {'source': 17, 'target': 1, 'value': 11672},\n",
       " {'source': 17, 'target': 2, 'value': 154988},\n",
       " {'source': 17, 'target': 3, 'value': 89464},\n",
       " {'source': 17, 'target': 4, 'value': 486886},\n",
       " {'source': 17, 'target': 5, 'value': 317768},\n",
       " {'source': 17, 'target': 6, 'value': 248125},\n",
       " {'source': 17, 'target': 7, 'value': 107108},\n",
       " {'source': 17, 'target': 8, 'value': 327080},\n",
       " {'source': 17, 'target': 9, 'value': 313160},\n",
       " {'source': 17, 'target': 10, 'value': 423598},\n",
       " {'source': 17, 'target': 11, 'value': 213166},\n",
       " {'source': 17, 'target': 12, 'value': 568844},\n",
       " {'source': 17, 'target': 13, 'value': 180298},\n",
       " {'source': 17, 'target': 14, 'value': 181692},\n",
       " {'source': 17, 'target': 15, 'value': 439738},\n",
       " {'source': 17, 'target': 16, 'value': 103908},\n",
       " {'source': 17, 'target': 17, 'value': 3511061},\n",
       " {'source': 17, 'target': 18, 'value': 192024},\n",
       " {'source': 17, 'target': 19, 'value': 245188},\n",
       " {'source': 17, 'target': 20, 'value': 373134},\n",
       " {'source': 17, 'target': 21, 'value': 13360},\n",
       " {'source': 17, 'target': 22, 'value': 974880},\n",
       " {'source': 17, 'target': 23, 'value': 2077832},\n",
       " {'source': 17, 'target': 24, 'value': 50488},\n",
       " {'source': 17, 'target': 25, 'value': 357828},\n",
       " {'source': 17, 'target': 26, 'value': 25596},\n",
       " {'source': 18, 'target': 0, 'value': 1755835},\n",
       " {'source': 18, 'target': 1, 'value': 6506602},\n",
       " {'source': 18, 'target': 2, 'value': 14389709},\n",
       " {'source': 18, 'target': 3, 'value': 2341555},\n",
       " {'source': 18, 'target': 4, 'value': 37360287},\n",
       " {'source': 18, 'target': 5, 'value': 18976262},\n",
       " {'source': 18, 'target': 6, 'value': 5746370},\n",
       " {'source': 18, 'target': 7, 'value': 17324671},\n",
       " {'source': 18, 'target': 8, 'value': 33684827},\n",
       " {'source': 18, 'target': 9, 'value': 15182942},\n",
       " {'source': 18, 'target': 10, 'value': 90919520},\n",
       " {'source': 18, 'target': 11, 'value': 19225601},\n",
       " {'source': 18, 'target': 12, 'value': 27710153},\n",
       " {'source': 18, 'target': 13, 'value': 33385580},\n",
       " {'source': 18, 'target': 14, 'value': 8115316},\n",
       " {'source': 18, 'target': 15, 'value': 23177224},\n",
       " {'source': 18, 'target': 16, 'value': 6183307},\n",
       " {'source': 18, 'target': 17, 'value': 64170250},\n",
       " {'source': 18, 'target': 18, 'value': 80647887},\n",
       " {'source': 18, 'target': 19, 'value': 8060604},\n",
       " {'source': 18, 'target': 20, 'value': 10811700},\n",
       " {'source': 18, 'target': 21, 'value': 1459728},\n",
       " {'source': 18, 'target': 22, 'value': 62858354},\n",
       " {'source': 18, 'target': 23, 'value': 37334264},\n",
       " {'source': 18, 'target': 24, 'value': 5537638},\n",
       " {'source': 18, 'target': 25, 'value': 225468537},\n",
       " {'source': 18, 'target': 26, 'value': 6184217},\n",
       " {'source': 4, 'target': 1, 'value': 288},\n",
       " {'source': 4, 'target': 2, 'value': 360},\n",
       " {'source': 4, 'target': 4, 'value': 1576303},\n",
       " {'source': 4, 'target': 5, 'value': 231547},\n",
       " {'source': 4, 'target': 7, 'value': 120},\n",
       " {'source': 4, 'target': 8, 'value': 416},\n",
       " {'source': 4, 'target': 10, 'value': 63173},\n",
       " {'source': 4, 'target': 11, 'value': 1490},\n",
       " {'source': 4, 'target': 13, 'value': 240},\n",
       " {'source': 4, 'target': 14, 'value': 1060},\n",
       " {'source': 4, 'target': 16, 'value': 307622},\n",
       " {'source': 4, 'target': 17, 'value': 292},\n",
       " {'source': 4, 'target': 18, 'value': 4800},\n",
       " {'source': 4, 'target': 19, 'value': 114900},\n",
       " {'source': 22, 'target': 24, 'value': 20},\n",
       " {'source': 22, 'target': 17, 'value': 400},\n",
       " {'source': 22, 'target': 5, 'value': 20},\n",
       " {'source': 22, 'target': 22, 'value': 148973},\n",
       " {'source': 22, 'target': 23, 'value': 440},\n",
       " {'source': 25, 'target': 0, 'value': 495408},\n",
       " {'source': 25, 'target': 1, 'value': 523703},\n",
       " {'source': 25, 'target': 2, 'value': 1384608},\n",
       " {'source': 25, 'target': 3, 'value': 28126},\n",
       " {'source': 25, 'target': 4, 'value': 4241925},\n",
       " {'source': 25, 'target': 5, 'value': 1422417},\n",
       " {'source': 25, 'target': 6, 'value': 1748056},\n",
       " {'source': 25, 'target': 7, 'value': 937765},\n",
       " {'source': 25, 'target': 8, 'value': 6274321},\n",
       " {'source': 25, 'target': 9, 'value': 3125227},\n",
       " {'source': 25, 'target': 10, 'value': 11088861},\n",
       " {'source': 25, 'target': 11, 'value': 1792971},\n",
       " {'source': 25, 'target': 12, 'value': 2601554},\n",
       " {'source': 25, 'target': 13, 'value': 5020642},\n",
       " {'source': 25, 'target': 14, 'value': 745491},\n",
       " {'source': 25, 'target': 15, 'value': 1390405},\n",
       " {'source': 25, 'target': 16, 'value': 1279375},\n",
       " {'source': 25, 'target': 17, 'value': 8686633},\n",
       " {'source': 25, 'target': 18, 'value': 4972109},\n",
       " {'source': 25, 'target': 19, 'value': 736167},\n",
       " {'source': 25, 'target': 20, 'value': 665010},\n",
       " {'source': 25, 'target': 21, 'value': 77557},\n",
       " {'source': 25, 'target': 22, 'value': 6327616},\n",
       " {'source': 25, 'target': 23, 'value': 8257095},\n",
       " {'source': 25, 'target': 24, 'value': 607495},\n",
       " {'source': 25, 'target': 25, 'value': 56659607},\n",
       " {'source': 25, 'target': 26, 'value': 1484292},\n",
       " {'source': 10, 'target': 0, 'value': 287527},\n",
       " {'source': 10, 'target': 1, 'value': 857948},\n",
       " {'source': 10, 'target': 2, 'value': 863416},\n",
       " {'source': 10, 'target': 3, 'value': 114704},\n",
       " {'source': 10, 'target': 4, 'value': 5082052},\n",
       " {'source': 10, 'target': 5, 'value': 1933558},\n",
       " {'source': 10, 'target': 6, 'value': 2022515},\n",
       " {'source': 10, 'target': 7, 'value': 2755753},\n",
       " {'source': 10, 'target': 8, 'value': 4616858},\n",
       " {'source': 10, 'target': 9, 'value': 1987397},\n",
       " {'source': 10, 'target': 10, 'value': 26391539},\n",
       " {'source': 10, 'target': 11, 'value': 2829555},\n",
       " {'source': 10, 'target': 12, 'value': 5589156},\n",
       " {'source': 10, 'target': 13, 'value': 2862358},\n",
       " {'source': 10, 'target': 14, 'value': 1178812},\n",
       " {'source': 10, 'target': 15, 'value': 3279734},\n",
       " {'source': 10, 'target': 16, 'value': 970156},\n",
       " {'source': 10, 'target': 17, 'value': 8892039},\n",
       " {'source': 10, 'target': 18, 'value': 5355512},\n",
       " {'source': 10, 'target': 19, 'value': 1281716},\n",
       " {'source': 10, 'target': 20, 'value': 867851},\n",
       " {'source': 10, 'target': 21, 'value': 220852},\n",
       " {'source': 10, 'target': 22, 'value': 6174731},\n",
       " {'source': 10, 'target': 23, 'value': 4896386},\n",
       " {'source': 10, 'target': 24, 'value': 499352},\n",
       " {'source': 10, 'target': 25, 'value': 25148474},\n",
       " {'source': 10, 'target': 26, 'value': 816056},\n",
       " {'source': 12, 'target': 20, 'value': 129600},\n",
       " {'source': 12, 'target': 8, 'value': 1000},\n",
       " {'source': 12, 'target': 25, 'value': 155388},\n",
       " {'source': 12, 'target': 11, 'value': 327224},\n",
       " {'source': 12, 'target': 12, 'value': 389336},\n",
       " {'source': 12, 'target': 13, 'value': 57892},\n",
       " {'source': 2, 'target': 0, 'value': 44217},\n",
       " {'source': 2, 'target': 2, 'value': 610813},\n",
       " {'source': 2, 'target': 20, 'value': 520438},\n",
       " {'source': 2, 'target': 21, 'value': 224457},\n",
       " {'source': 2, 'target': 13, 'value': 4192}]"
      ]
     },
     "execution_count": 61,
     "metadata": {},
     "output_type": "execute_result"
    }
   ],
   "source": [
    "lista_dict_agg"
   ]
  },
  {
   "cell_type": "code",
<<<<<<< HEAD
   "execution_count": 21,
||||||| merged common ancestors
   "execution_count": 99,
=======
   "execution_count": 62,
>>>>>>> temporary_work
   "metadata": {
    "collapsed": true
   },
   "outputs": [],
   "source": [
    "#CRIAR UM OBJETO PARA CRIAR O DIAGRAMA DE SANKEY COM DADOS AGREGADOS\n",
    "vendas_olac_agg = { \"nodes\" : lista_dict_uf , \"links\" : lista_dict_agg }"
   ]
  },
  {
   "cell_type": "code",
<<<<<<< HEAD
   "execution_count": 22,
||||||| merged common ancestors
   "execution_count": 100,
=======
   "execution_count": 63,
   "metadata": {},
   "outputs": [
    {
     "data": {
      "text/plain": [
       "{'links': [{'source': 17, 'target': 0, 'value': 696},\n",
       "  {'source': 17, 'target': 1, 'value': 11672},\n",
       "  {'source': 17, 'target': 2, 'value': 154988},\n",
       "  {'source': 17, 'target': 3, 'value': 89464},\n",
       "  {'source': 17, 'target': 4, 'value': 486886},\n",
       "  {'source': 17, 'target': 5, 'value': 317768},\n",
       "  {'source': 17, 'target': 6, 'value': 248125},\n",
       "  {'source': 17, 'target': 7, 'value': 107108},\n",
       "  {'source': 17, 'target': 8, 'value': 327080},\n",
       "  {'source': 17, 'target': 9, 'value': 313160},\n",
       "  {'source': 17, 'target': 10, 'value': 423598},\n",
       "  {'source': 17, 'target': 11, 'value': 213166},\n",
       "  {'source': 17, 'target': 12, 'value': 568844},\n",
       "  {'source': 17, 'target': 13, 'value': 180298},\n",
       "  {'source': 17, 'target': 14, 'value': 181692},\n",
       "  {'source': 17, 'target': 15, 'value': 439738},\n",
       "  {'source': 17, 'target': 16, 'value': 103908},\n",
       "  {'source': 17, 'target': 17, 'value': 3511061},\n",
       "  {'source': 17, 'target': 18, 'value': 192024},\n",
       "  {'source': 17, 'target': 19, 'value': 245188},\n",
       "  {'source': 17, 'target': 20, 'value': 373134},\n",
       "  {'source': 17, 'target': 21, 'value': 13360},\n",
       "  {'source': 17, 'target': 22, 'value': 974880},\n",
       "  {'source': 17, 'target': 23, 'value': 2077832},\n",
       "  {'source': 17, 'target': 24, 'value': 50488},\n",
       "  {'source': 17, 'target': 25, 'value': 357828},\n",
       "  {'source': 17, 'target': 26, 'value': 25596},\n",
       "  {'source': 18, 'target': 0, 'value': 1755835},\n",
       "  {'source': 18, 'target': 1, 'value': 6506602},\n",
       "  {'source': 18, 'target': 2, 'value': 14389709},\n",
       "  {'source': 18, 'target': 3, 'value': 2341555},\n",
       "  {'source': 18, 'target': 4, 'value': 37360287},\n",
       "  {'source': 18, 'target': 5, 'value': 18976262},\n",
       "  {'source': 18, 'target': 6, 'value': 5746370},\n",
       "  {'source': 18, 'target': 7, 'value': 17324671},\n",
       "  {'source': 18, 'target': 8, 'value': 33684827},\n",
       "  {'source': 18, 'target': 9, 'value': 15182942},\n",
       "  {'source': 18, 'target': 10, 'value': 90919520},\n",
       "  {'source': 18, 'target': 11, 'value': 19225601},\n",
       "  {'source': 18, 'target': 12, 'value': 27710153},\n",
       "  {'source': 18, 'target': 13, 'value': 33385580},\n",
       "  {'source': 18, 'target': 14, 'value': 8115316},\n",
       "  {'source': 18, 'target': 15, 'value': 23177224},\n",
       "  {'source': 18, 'target': 16, 'value': 6183307},\n",
       "  {'source': 18, 'target': 17, 'value': 64170250},\n",
       "  {'source': 18, 'target': 18, 'value': 80647887},\n",
       "  {'source': 18, 'target': 19, 'value': 8060604},\n",
       "  {'source': 18, 'target': 20, 'value': 10811700},\n",
       "  {'source': 18, 'target': 21, 'value': 1459728},\n",
       "  {'source': 18, 'target': 22, 'value': 62858354},\n",
       "  {'source': 18, 'target': 23, 'value': 37334264},\n",
       "  {'source': 18, 'target': 24, 'value': 5537638},\n",
       "  {'source': 18, 'target': 25, 'value': 225468537},\n",
       "  {'source': 18, 'target': 26, 'value': 6184217},\n",
       "  {'source': 4, 'target': 1, 'value': 288},\n",
       "  {'source': 4, 'target': 2, 'value': 360},\n",
       "  {'source': 4, 'target': 4, 'value': 1576303},\n",
       "  {'source': 4, 'target': 5, 'value': 231547},\n",
       "  {'source': 4, 'target': 7, 'value': 120},\n",
       "  {'source': 4, 'target': 8, 'value': 416},\n",
       "  {'source': 4, 'target': 10, 'value': 63173},\n",
       "  {'source': 4, 'target': 11, 'value': 1490},\n",
       "  {'source': 4, 'target': 13, 'value': 240},\n",
       "  {'source': 4, 'target': 14, 'value': 1060},\n",
       "  {'source': 4, 'target': 16, 'value': 307622},\n",
       "  {'source': 4, 'target': 17, 'value': 292},\n",
       "  {'source': 4, 'target': 18, 'value': 4800},\n",
       "  {'source': 4, 'target': 19, 'value': 114900},\n",
       "  {'source': 22, 'target': 24, 'value': 20},\n",
       "  {'source': 22, 'target': 17, 'value': 400},\n",
       "  {'source': 22, 'target': 5, 'value': 20},\n",
       "  {'source': 22, 'target': 22, 'value': 148973},\n",
       "  {'source': 22, 'target': 23, 'value': 440},\n",
       "  {'source': 25, 'target': 0, 'value': 495408},\n",
       "  {'source': 25, 'target': 1, 'value': 523703},\n",
       "  {'source': 25, 'target': 2, 'value': 1384608},\n",
       "  {'source': 25, 'target': 3, 'value': 28126},\n",
       "  {'source': 25, 'target': 4, 'value': 4241925},\n",
       "  {'source': 25, 'target': 5, 'value': 1422417},\n",
       "  {'source': 25, 'target': 6, 'value': 1748056},\n",
       "  {'source': 25, 'target': 7, 'value': 937765},\n",
       "  {'source': 25, 'target': 8, 'value': 6274321},\n",
       "  {'source': 25, 'target': 9, 'value': 3125227},\n",
       "  {'source': 25, 'target': 10, 'value': 11088861},\n",
       "  {'source': 25, 'target': 11, 'value': 1792971},\n",
       "  {'source': 25, 'target': 12, 'value': 2601554},\n",
       "  {'source': 25, 'target': 13, 'value': 5020642},\n",
       "  {'source': 25, 'target': 14, 'value': 745491},\n",
       "  {'source': 25, 'target': 15, 'value': 1390405},\n",
       "  {'source': 25, 'target': 16, 'value': 1279375},\n",
       "  {'source': 25, 'target': 17, 'value': 8686633},\n",
       "  {'source': 25, 'target': 18, 'value': 4972109},\n",
       "  {'source': 25, 'target': 19, 'value': 736167},\n",
       "  {'source': 25, 'target': 20, 'value': 665010},\n",
       "  {'source': 25, 'target': 21, 'value': 77557},\n",
       "  {'source': 25, 'target': 22, 'value': 6327616},\n",
       "  {'source': 25, 'target': 23, 'value': 8257095},\n",
       "  {'source': 25, 'target': 24, 'value': 607495},\n",
       "  {'source': 25, 'target': 25, 'value': 56659607},\n",
       "  {'source': 25, 'target': 26, 'value': 1484292},\n",
       "  {'source': 10, 'target': 0, 'value': 287527},\n",
       "  {'source': 10, 'target': 1, 'value': 857948},\n",
       "  {'source': 10, 'target': 2, 'value': 863416},\n",
       "  {'source': 10, 'target': 3, 'value': 114704},\n",
       "  {'source': 10, 'target': 4, 'value': 5082052},\n",
       "  {'source': 10, 'target': 5, 'value': 1933558},\n",
       "  {'source': 10, 'target': 6, 'value': 2022515},\n",
       "  {'source': 10, 'target': 7, 'value': 2755753},\n",
       "  {'source': 10, 'target': 8, 'value': 4616858},\n",
       "  {'source': 10, 'target': 9, 'value': 1987397},\n",
       "  {'source': 10, 'target': 10, 'value': 26391539},\n",
       "  {'source': 10, 'target': 11, 'value': 2829555},\n",
       "  {'source': 10, 'target': 12, 'value': 5589156},\n",
       "  {'source': 10, 'target': 13, 'value': 2862358},\n",
       "  {'source': 10, 'target': 14, 'value': 1178812},\n",
       "  {'source': 10, 'target': 15, 'value': 3279734},\n",
       "  {'source': 10, 'target': 16, 'value': 970156},\n",
       "  {'source': 10, 'target': 17, 'value': 8892039},\n",
       "  {'source': 10, 'target': 18, 'value': 5355512},\n",
       "  {'source': 10, 'target': 19, 'value': 1281716},\n",
       "  {'source': 10, 'target': 20, 'value': 867851},\n",
       "  {'source': 10, 'target': 21, 'value': 220852},\n",
       "  {'source': 10, 'target': 22, 'value': 6174731},\n",
       "  {'source': 10, 'target': 23, 'value': 4896386},\n",
       "  {'source': 10, 'target': 24, 'value': 499352},\n",
       "  {'source': 10, 'target': 25, 'value': 25148474},\n",
       "  {'source': 10, 'target': 26, 'value': 816056},\n",
       "  {'source': 12, 'target': 20, 'value': 129600},\n",
       "  {'source': 12, 'target': 8, 'value': 1000},\n",
       "  {'source': 12, 'target': 25, 'value': 155388},\n",
       "  {'source': 12, 'target': 11, 'value': 327224},\n",
       "  {'source': 12, 'target': 12, 'value': 389336},\n",
       "  {'source': 12, 'target': 13, 'value': 57892},\n",
       "  {'source': 2, 'target': 0, 'value': 44217},\n",
       "  {'source': 2, 'target': 2, 'value': 610813},\n",
       "  {'source': 2, 'target': 20, 'value': 520438},\n",
       "  {'source': 2, 'target': 21, 'value': 224457},\n",
       "  {'source': 2, 'target': 13, 'value': 4192}],\n",
       " 'nodes': [{'name': 'AC'},\n",
       "  {'name': 'AL'},\n",
       "  {'name': 'AM'},\n",
       "  {'name': 'AP'},\n",
       "  {'name': 'BA'},\n",
       "  {'name': 'CE'},\n",
       "  {'name': 'DF'},\n",
       "  {'name': 'ES'},\n",
       "  {'name': 'GO'},\n",
       "  {'name': 'MA'},\n",
       "  {'name': 'MG'},\n",
       "  {'name': 'MS'},\n",
       "  {'name': 'MT'},\n",
       "  {'name': 'PA'},\n",
       "  {'name': 'PB'},\n",
       "  {'name': 'PE'},\n",
       "  {'name': 'PI'},\n",
       "  {'name': 'PR'},\n",
       "  {'name': 'RJ'},\n",
       "  {'name': 'RN'},\n",
       "  {'name': 'RO'},\n",
       "  {'name': 'RR'},\n",
       "  {'name': 'RS'},\n",
       "  {'name': 'SC'},\n",
       "  {'name': 'SE'},\n",
       "  {'name': 'SP'},\n",
       "  {'name': 'TO'}]}"
      ]
     },
     "execution_count": 63,
     "metadata": {},
     "output_type": "execute_result"
    }
   ],
   "source": [
    "vendas_olac_agg "
   ]
  },
  {
   "cell_type": "code",
   "execution_count": 64,
>>>>>>> temporary_work
   "metadata": {
    "collapsed": true
   },
   "outputs": [],
   "source": [
    "with open('../data/vendas_olac_agg.json', 'w') as fp:\n",
    "    json.dump(vendas_olac_agg, fp)"
   ]
  },
  {
   "cell_type": "code",
   "execution_count": 4,
   "metadata": {},
   "outputs": [],
   "source": [
    "%R library(networkD3)\n",
    "%R Energy <- jsonlite::fromJSON(\"C:\\\\Users\\\\jferraz\\\\Desktop\\\\vendas_olac_agg.json\")\n"
   ]
  },
  {
   "cell_type": "code",
   "execution_count": 5,
   "metadata": {},
   "outputs": [
    {
     "ename": "NameError",
     "evalue": "name 'Energy' is not defined",
     "output_type": "error",
     "traceback": [
      "\u001b[0;31m---------------------------------------------------------------------------\u001b[0m",
      "\u001b[0;31mNameError\u001b[0m                                 Traceback (most recent call last)",
      "\u001b[0;32m<ipython-input-5-332b6a78cc00>\u001b[0m in \u001b[0;36m<module>\u001b[0;34m()\u001b[0m\n\u001b[0;32m----> 1\u001b[0;31m \u001b[0mEnergy\u001b[0m\u001b[1;33m\u001b[0m\u001b[0m\n\u001b[0m",
      "\u001b[0;31mNameError\u001b[0m: name 'Energy' is not defined"
     ]
    }
   ],
   "source": [
    "Energy"
   ]
  },
  {
   "cell_type": "code",
   "execution_count": 29,
   "metadata": {
    "collapsed": false
   },
   "outputs": [
    {
     "data": {
      "text/plain": [
       "1245883"
      ]
     },
     "execution_count": 29,
     "metadata": {},
     "output_type": "execute_result"
    }
   ],
   "source": [
    "s = open(\"../data/vendas_olac_uf.json\", mode='r', encoding='utf-8-sig').read()\n",
    "open(\"../data/vendas_olac_uf.json\", mode='w', encoding='utf-8').write(s)"
   ]
  }
 ],
 "metadata": {
  "anaconda-cloud": {},
  "hide_input": false,
  "kernelspec": {
   "display_name": "Python [Root]",
   "language": "python",
   "name": "Python [Root]"
  },
  "language_info": {
   "codemirror_mode": {
    "name": "ipython",
    "version": 3
   },
   "file_extension": ".py",
   "mimetype": "text/x-python",
   "name": "python",
   "nbconvert_exporter": "python",
   "pygments_lexer": "ipython3",
   "version": "3.5.2"
  }
 },
 "nbformat": 4,
 "nbformat_minor": 1
}
