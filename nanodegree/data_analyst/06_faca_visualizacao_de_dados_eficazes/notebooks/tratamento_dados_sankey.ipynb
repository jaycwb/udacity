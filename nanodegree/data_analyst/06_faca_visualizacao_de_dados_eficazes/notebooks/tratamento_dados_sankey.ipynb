{
 "cells": [
  {
   "cell_type": "markdown",
   "metadata": {},
   "source": [
    "# #1. TRATAMENTO DOS DADOS"
   ]
  },
  {
   "cell_type": "code",
   "execution_count": 1,
   "metadata": {
    "collapsed": true
   },
   "outputs": [],
   "source": [
    "#CARREGA A(S) BIBLIOTECAS\\n\",\n",
    "import pandas as pd\n",
    "import json"
   ]
  },
  {
   "cell_type": "code",
   "execution_count": 3,
   "metadata": {},
   "outputs": [
    {
     "data": {
      "text/html": [
       "<div>\n",
       "<table border=\"1\" class=\"dataframe\">\n",
       "  <thead>\n",
       "    <tr style=\"text-align: right;\">\n",
       "      <th></th>\n",
       "      <th>Data</th>\n",
       "      <th>Cód Regulado ANP</th>\n",
       "      <th>Produtor-Importador</th>\n",
       "      <th>Código do Produto</th>\n",
       "      <th>Descrição do Produto</th>\n",
       "      <th>Região do Destinatário</th>\n",
       "      <th>UF do Destinatário</th>\n",
       "      <th>Volume-Litros</th>\n",
       "    </tr>\n",
       "  </thead>\n",
       "  <tbody>\n",
       "    <tr>\n",
       "      <th>0</th>\n",
       "      <td>12/2016</td>\n",
       "      <td>200296</td>\n",
       "      <td>TG Indústria e Comércio de Lubrificantes e Gra...</td>\n",
       "      <td>620101002</td>\n",
       "      <td>ENGRENAGENS E SISTEMAS CIRCULATÓRIOS</td>\n",
       "      <td>SUL</td>\n",
       "      <td>PR</td>\n",
       "      <td>9828</td>\n",
       "    </tr>\n",
       "    <tr>\n",
       "      <th>1</th>\n",
       "      <td>12/2016</td>\n",
       "      <td>200296</td>\n",
       "      <td>TG Indústria e Comércio de Lubrificantes e Gra...</td>\n",
       "      <td>620101002</td>\n",
       "      <td>ENGRENAGENS E SISTEMAS CIRCULATÓRIOS</td>\n",
       "      <td>SUL</td>\n",
       "      <td>SC</td>\n",
       "      <td>800</td>\n",
       "    </tr>\n",
       "    <tr>\n",
       "      <th>2</th>\n",
       "      <td>12/2016</td>\n",
       "      <td>200296</td>\n",
       "      <td>TG Indústria e Comércio de Lubrificantes e Gra...</td>\n",
       "      <td>620501001</td>\n",
       "      <td>Ciclo Otto</td>\n",
       "      <td>SUL</td>\n",
       "      <td>PR</td>\n",
       "      <td>3685</td>\n",
       "    </tr>\n",
       "    <tr>\n",
       "      <th>3</th>\n",
       "      <td>12/2016</td>\n",
       "      <td>200296</td>\n",
       "      <td>TG Indústria e Comércio de Lubrificantes e Gra...</td>\n",
       "      <td>620501001</td>\n",
       "      <td>Ciclo Otto</td>\n",
       "      <td>SUL</td>\n",
       "      <td>RS</td>\n",
       "      <td>480</td>\n",
       "    </tr>\n",
       "    <tr>\n",
       "      <th>4</th>\n",
       "      <td>12/2016</td>\n",
       "      <td>200296</td>\n",
       "      <td>TG Indústria e Comércio de Lubrificantes e Gra...</td>\n",
       "      <td>620501001</td>\n",
       "      <td>Ciclo Otto</td>\n",
       "      <td>SUL</td>\n",
       "      <td>SC</td>\n",
       "      <td>5040</td>\n",
       "    </tr>\n",
       "  </tbody>\n",
       "</table>\n",
       "</div>"
      ],
      "text/plain": [
       "      Data  Cód Regulado ANP  \\\n",
       "0  12/2016            200296   \n",
       "1  12/2016            200296   \n",
       "2  12/2016            200296   \n",
       "3  12/2016            200296   \n",
       "4  12/2016            200296   \n",
       "\n",
       "                                 Produtor-Importador  Código do Produto  \\\n",
       "0  TG Indústria e Comércio de Lubrificantes e Gra...          620101002   \n",
       "1  TG Indústria e Comércio de Lubrificantes e Gra...          620101002   \n",
       "2  TG Indústria e Comércio de Lubrificantes e Gra...          620501001   \n",
       "3  TG Indústria e Comércio de Lubrificantes e Gra...          620501001   \n",
       "4  TG Indústria e Comércio de Lubrificantes e Gra...          620501001   \n",
       "\n",
       "                   Descrição do Produto Região do Destinatário  \\\n",
       "0  ENGRENAGENS E SISTEMAS CIRCULATÓRIOS                    SUL   \n",
       "1  ENGRENAGENS E SISTEMAS CIRCULATÓRIOS                    SUL   \n",
       "2                            Ciclo Otto                    SUL   \n",
       "3                            Ciclo Otto                    SUL   \n",
       "4                            Ciclo Otto                    SUL   \n",
       "\n",
       "  UF do Destinatário  Volume-Litros  \n",
       "0                 PR           9828  \n",
       "1                 SC            800  \n",
       "2                 PR           3685  \n",
       "3                 RS            480  \n",
       "4                 SC           5040  "
      ]
     },
     "execution_count": 3,
     "metadata": {},
     "output_type": "execute_result"
    }
   ],
   "source": [
    "#Vendas nacionais de OLAC pelos Produtores e Importadores,\n",
    "#A COLUNA PRODUTOR-IMPORTADOR POSSUI A INFORMAÇÃÕ DE UMA EMPRESA QUE DECLARA UMA OPERAÇÃO DE COMERCIALIZAÇÃO À ANP.\n",
    "#TODAVIA, ESSE PRODUTO COMERCIALIZADO PODE TER A SEGUINTE ORIGEM:\n",
    "### 1. SER PRODUZIDO EM PLANTA INDUSTRIAL PRÓPRIA EM SOLO BRASILEIRO.\n",
    "### 2. SER PRODUZIDO EM PLANTA INDUSTRIAL DE TERCEIRO EM SOLO BRASILEIRO.\n",
    "### 3. SER PRODUZID FORA DO BRASIL (PLANTA PRÓPRIA OU NÃO.)\n",
    "vendas = pd.read_excel(\"../data/boletim_1/Anexo_H.xlsx\", sheetname=\"41-Vendas OLAC Geral\")\n",
    "vendas.head(5)"
   ]
  },
  {
   "cell_type": "code",
   "execution_count": 7,
   "metadata": {},
   "outputs": [
    {
     "data": {
      "text/html": [
       "<div>\n",
       "<table border=\"1\" class=\"dataframe\">\n",
       "  <thead>\n",
       "    <tr style=\"text-align: right;\">\n",
       "      <th></th>\n",
       "      <th>CNPJ</th>\n",
       "      <th>Produtor</th>\n",
       "      <th>Município</th>\n",
       "      <th>UF</th>\n",
       "    </tr>\n",
       "  </thead>\n",
       "  <tbody>\n",
       "    <tr>\n",
       "      <th>0</th>\n",
       "      <td>57941890000153</td>\n",
       "      <td>AGECOM PRODUTOS DE PETRÓLEO LTDA.</td>\n",
       "      <td>MAUA</td>\n",
       "      <td>SP</td>\n",
       "    </tr>\n",
       "    <tr>\n",
       "      <th>1</th>\n",
       "      <td>3439153000128</td>\n",
       "      <td>BIOLUB QUÍMICA LTDA -ME</td>\n",
       "      <td>SOROCABA</td>\n",
       "      <td>SP</td>\n",
       "    </tr>\n",
       "    <tr>\n",
       "      <th>2</th>\n",
       "      <td>33194978000190</td>\n",
       "      <td>CASTROL BRASIL LTDA</td>\n",
       "      <td>RIO DE JANEIRO</td>\n",
       "      <td>RJ</td>\n",
       "    </tr>\n",
       "    <tr>\n",
       "      <th>3</th>\n",
       "      <td>45036670000104</td>\n",
       "      <td>CHEMLUB PRODUTOS QUÍMICOS LTDA</td>\n",
       "      <td>VALINHOS</td>\n",
       "      <td>SP</td>\n",
       "    </tr>\n",
       "    <tr>\n",
       "      <th>4</th>\n",
       "      <td>5524572001084</td>\n",
       "      <td>CHEVRON BRASIL LUBRIFICANTES LTDA.</td>\n",
       "      <td>DUQUE DE CAXIAS</td>\n",
       "      <td>RJ</td>\n",
       "    </tr>\n",
       "  </tbody>\n",
       "</table>\n",
       "</div>"
      ],
      "text/plain": [
       "             CNPJ                            Produtor        Município  UF\n",
       "0  57941890000153   AGECOM PRODUTOS DE PETRÓLEO LTDA.             MAUA  SP\n",
       "1   3439153000128             BIOLUB QUÍMICA LTDA -ME         SOROCABA  SP\n",
       "2  33194978000190                 CASTROL BRASIL LTDA   RIO DE JANEIRO  RJ\n",
       "3  45036670000104      CHEMLUB PRODUTOS QUÍMICOS LTDA         VALINHOS  SP\n",
       "4   5524572001084  CHEVRON BRASIL LUBRIFICANTES LTDA.  DUQUE DE CAXIAS  RJ"
      ]
     },
     "execution_count": 7,
     "metadata": {},
     "output_type": "execute_result"
    }
   ],
   "source": [
    "#CARREGA O ARQUIVO QUE CONTEM A LOCALIZAÇÃO DAS PLANTAS DE PRODUCAO DE ÓLEO LUBRIFICANTE EM SOLO BRASILEIRO\\n\",\n",
    "plantas_producao = pd.read_excel(\"../data/boletim_1/Anexo_E.xlsx\", sheetname=\"30-Mapa_Planta_Prod_OLAC\")\n",
    "plantas_producao.head()"
   ]
  },
  {
   "cell_type": "code",
   "execution_count": 8,
   "metadata": {},
   "outputs": [
    {
     "name": "stdout",
     "output_type": "stream",
     "text": [
      "IPIRANGA PRODUTOS DE PETRÓLEO S.A - RJ\n"
     ]
    }
   ],
   "source": [
    "#CRIA UM DICIONÁRIO PARA ARMAZENAR O UF DAS PLANTAS DE PRODUCAO\\n\",\n",
    "empresa_prod_uf = {}\n",
    "\n",
    "for index,row in plantas_producao.iterrows():\n",
    "    empresa = row['Produtor']\n",
    "    if empresa not in empresa_prod_uf:\n",
    "        empresa_prod_uf[empresa] = row['UF']\n",
    "    else:\n",
    "    #CASO UMA EMPRESA TENHA MAIS DE UMA PLANTA INDUSTRIAL, IMPRIMIR O NOME DA EMPRESA E A UF ONDE A PLANTA ESTÁ.    \\n\",\n",
    "        print(empresa+\" - \"+row['UF']) # A IPIRANGA NESSE CASO POSSUI DUAS PLANTAS NO MESMO ESTADO (RJ)\n",
    "    continue"
   ]
  },
  {
   "cell_type": "code",
   "execution_count": 9,
   "metadata": {
    "collapsed": true
   },
   "outputs": [],
   "source": [
    "#TROCAR O NOME DA EMPRESA (PRODUTOR-IMPORTADOR) PELO UF ONDE ESTÁ LOCALIZADO A PLANTA DE PRODUÇÃO.\n",
    "vendas['Produtor-Importador'] = vendas['Produtor-Importador'].map(empresa_prod_uf)"
   ]
  },
  {
   "cell_type": "code",
   "execution_count": 11,
   "metadata": {
    "scrolled": true
   },
   "outputs": [
    {
     "data": {
      "text/plain": [
       "9848"
      ]
     },
     "execution_count": 11,
     "metadata": {},
     "output_type": "execute_result"
    }
   ],
   "source": [
    "#NÚMERO DE REGISTROS DE DECLARAÇÃO DE COMERCIALIZAÇÃO DE EMPRESAS QUE NÃO PRODUZIRAM EM PLANTA PRÓPRIA NO BRASIL OU SÃO\n",
    "#CONSIDERADAS IMPORTADORAS\n",
    "vendas['Produtor-Importador'].isnull().sum()"
   ]
  },
  {
   "cell_type": "code",
   "execution_count": 12,
   "metadata": {},
   "outputs": [
    {
     "data": {
      "text/plain": [
       "'26.14%'"
      ]
     },
     "execution_count": 12,
     "metadata": {},
     "output_type": "execute_result"
    }
   ],
   "source": [
    "#PERCENTUAL DE REGISTROS DE DECLARAÇÃO DE COMERCIALIZAÇÃO QUE SÃO DE EMPRESAS QUE NÃO PRODUZIRAM EM PLANTA PRÓPRIA NO BRASIL \n",
    "#OU SÃO CONSIDERADAS IMPORTADORAS\n",
    "str(round(vendas['Produtor-Importador'].isnull().sum()/vendas['Produtor-Importador'].shape[0]*100,2))+\"%\""
   ]
  },
  {
   "cell_type": "code",
   "execution_count": 14,
   "metadata": {},
   "outputs": [],
   "source": [
    "#SOMA DOS VOLUMES DE COMERCIALIZACAO DE EMPRESAS DETENTORAS & PRODUTORAS\n",
    "count_volume_detentor_produtor = 0\n",
    "#SOMA DOS VOLUMES DE EMPRESAS QUE SÃO DETENTORAS/TERCERIZADORAS OU DETENTORAS/IMPORTADORAS\n",
    "count_volume_outros = 0\n",
    "for index,row in vendas.iterrows():\n",
    "    if type(row['Produtor-Importador']) != str:\n",
    "        count_volume_outros += row['Volume-Litros']\n",
    "    else:\n",
    "        count_volume_detentor_produtor += row['Volume-Litros']"
   ]
  },
  {
   "cell_type": "code",
   "execution_count": 17,
   "metadata": {},
   "outputs": [
    {
     "name": "stdout",
     "output_type": "stream",
     "text": [
      "Volume total de empresas Detentoras/Produtoras 1131775.986 m³\n",
      "Volume total de empresas Detentoras/Tercerizadoras/Importadoras 97916.397 m³\n"
     ]
    }
   ],
   "source": [
    "print(\"Volume total de empresas Detentoras/Produtoras \" + str(count_volume_detentor_produtor/1000)+ \" m³\")\n",
    "print(\"Volume total de empresas Detentoras/Tercerizadoras/Importadoras \" +str(count_volume_outros/1000)+ \" m³\")"
   ]
  },
  {
   "cell_type": "code",
   "execution_count": 19,
   "metadata": {},
   "outputs": [
    {
     "data": {
      "text/plain": [
       "'7.96%'"
      ]
     },
     "execution_count": 19,
     "metadata": {},
     "output_type": "execute_result"
    }
   ],
   "source": [
    "#PERCENTUAL EM VOLUME DOS REGISTROS QUE NÃO PODE SE INFERIR QUAL A ORIGEM DA PRODUÇÃO, APENAS O DESTINATÁRIO.\n",
    "str(round(count_volume_outros/(count_volume_outros+count_volume_detentor_produtor)*100,2))+\"%\""
   ]
  },
  {
   "cell_type": "code",
   "execution_count": 23,
   "metadata": {},
   "outputs": [],
   "source": [
    "#LISTA PARA ABRIGAR O INDEX DOS REGISTROS QUE NÃO POSSUEM A IDENTIFICAÇÃO DA UF DA ORIGEM DA PRODUÇÃO\"\n",
    "list_index_nan = []\n",
    "for index,row in vendas.iterrows():\n",
    "    if type(row['Produtor-Importador']) != str:\n",
    "        list_index_nan.append(index)"
   ]
  },
  {
   "cell_type": "code",
   "execution_count": 26,
   "metadata": {},
   "outputs": [],
   "source": [
    "#DELETAR DO DATAFRAME DOS OS REGISTROS QUE NÃO POSSUEM A IDENTIFICAÇÃO DA UF DA ORIGEM DA PRODUÇÃO\"\n",
    "vendas_uf = vendas[vendas['Produtor-Importador'].notnull()]"
   ]
  },
  {
   "cell_type": "code",
   "execution_count": 28,
   "metadata": {},
   "outputs": [],
   "source": [
    "#RESETAR O INDEX DO DATAFRAME\n",
    "vendas_uf.reset_index(inplace=True)\n",
    "del vendas_uf['index']"
   ]
  },
  {
   "cell_type": "code",
   "execution_count": 29,
   "metadata": {
    "collapsed": true
   },
   "outputs": [],
   "source": [
    "vendas_uf.columns = ['Data', 'Cód Regulado ANP', 'UF_origem','Código do Produto', \n",
    "                     'Descrição do Produto', 'Região do Destinatário','UF_destino', 'Volume-Litros']"
   ]
  },
  {
   "cell_type": "code",
   "execution_count": 30,
   "metadata": {
    "collapsed": true
   },
   "outputs": [],
   "source": [
    "#CRIA UMA LISTA COM TODAS AS UF'S\n",
    "lista_UF = vendas_uf['UF_destino'].unique().tolist()\n",
    "#ORGANIZA A LISTA POR ORDEM ALFABÉTICA\n",
    "lista_UF.sort()"
   ]
  },
  {
   "cell_type": "code",
   "execution_count": 32,
   "metadata": {
    "collapsed": true
   },
   "outputs": [],
   "source": [
    "#LISTA DE DICIONÁRIOS\n",
    "lista_dict_uf = []\n",
    "for uf in lista_UF:\n",
    "    dict_uf = {\"name\": uf}\n",
    "    lista_dict_uf.append(dict_uf)"
   ]
  },
  {
   "cell_type": "code",
   "execution_count": 33,
   "metadata": {
    "collapsed": true
   },
   "outputs": [],
   "source": [
    "#CRIA UM DICIONÁRIO PARA CODIFICAR AS UF'S\\n\",\n",
    "uf_codigo = {}\n",
    "count = 0\n",
    "for uf in lista_UF:\n",
    "    uf_codigo[uf] = count\n",
    "    count += 1"
   ]
  },
  {
   "cell_type": "code",
   "execution_count": 35,
   "metadata": {},
   "outputs": [
    {
     "name": "stderr",
     "output_type": "stream",
     "text": [
      "C:\\Users\\ferraz\\Anaconda3\\lib\\site-packages\\ipykernel\\__main__.py:2: SettingWithCopyWarning: \n",
      "A value is trying to be set on a copy of a slice from a DataFrame.\n",
      "Try using .loc[row_indexer,col_indexer] = value instead\n",
      "\n",
      "See the caveats in the documentation: http://pandas.pydata.org/pandas-docs/stable/indexing.html#indexing-view-versus-copy\n",
      "  from ipykernel import kernelapp as app\n",
      "C:\\Users\\ferraz\\Anaconda3\\lib\\site-packages\\ipykernel\\__main__.py:3: SettingWithCopyWarning: \n",
      "A value is trying to be set on a copy of a slice from a DataFrame.\n",
      "Try using .loc[row_indexer,col_indexer] = value instead\n",
      "\n",
      "See the caveats in the documentation: http://pandas.pydata.org/pandas-docs/stable/indexing.html#indexing-view-versus-copy\n",
      "  app.launch_new_instance()\n"
     ]
    }
   ],
   "source": [
    "#CODIFICA AS COLUNAS UTILIZANDO O DICIONÁRIO uf_codigo\n",
    "vendas_uf['UF_origem'] = vendas_uf['UF_origem'].map(uf_codigo)\n",
    "vendas_uf['UF_destino'] = vendas_uf['UF_destino'].map(uf_codigo)"
   ]
  },
  {
   "cell_type": "code",
   "execution_count": 36,
   "metadata": {},
   "outputs": [
    {
     "data": {
      "text/html": [
       "<div>\n",
       "<table border=\"1\" class=\"dataframe\">\n",
       "  <thead>\n",
       "    <tr style=\"text-align: right;\">\n",
       "      <th></th>\n",
       "      <th>Data</th>\n",
       "      <th>Cód Regulado ANP</th>\n",
       "      <th>UF_origem</th>\n",
       "      <th>Código do Produto</th>\n",
       "      <th>Descrição do Produto</th>\n",
       "      <th>Região do Destinatário</th>\n",
       "      <th>UF_destino</th>\n",
       "      <th>Volume-Litros</th>\n",
       "    </tr>\n",
       "  </thead>\n",
       "  <tbody>\n",
       "    <tr>\n",
       "      <th>0</th>\n",
       "      <td>12/2016</td>\n",
       "      <td>200296</td>\n",
       "      <td>17</td>\n",
       "      <td>620101002</td>\n",
       "      <td>ENGRENAGENS E SISTEMAS CIRCULATÓRIOS</td>\n",
       "      <td>SUL</td>\n",
       "      <td>17</td>\n",
       "      <td>9828</td>\n",
       "    </tr>\n",
       "    <tr>\n",
       "      <th>1</th>\n",
       "      <td>12/2016</td>\n",
       "      <td>200296</td>\n",
       "      <td>17</td>\n",
       "      <td>620101002</td>\n",
       "      <td>ENGRENAGENS E SISTEMAS CIRCULATÓRIOS</td>\n",
       "      <td>SUL</td>\n",
       "      <td>23</td>\n",
       "      <td>800</td>\n",
       "    </tr>\n",
       "    <tr>\n",
       "      <th>2</th>\n",
       "      <td>12/2016</td>\n",
       "      <td>200296</td>\n",
       "      <td>17</td>\n",
       "      <td>620501001</td>\n",
       "      <td>Ciclo Otto</td>\n",
       "      <td>SUL</td>\n",
       "      <td>17</td>\n",
       "      <td>3685</td>\n",
       "    </tr>\n",
       "    <tr>\n",
       "      <th>3</th>\n",
       "      <td>12/2016</td>\n",
       "      <td>200296</td>\n",
       "      <td>17</td>\n",
       "      <td>620501001</td>\n",
       "      <td>Ciclo Otto</td>\n",
       "      <td>SUL</td>\n",
       "      <td>22</td>\n",
       "      <td>480</td>\n",
       "    </tr>\n",
       "    <tr>\n",
       "      <th>4</th>\n",
       "      <td>12/2016</td>\n",
       "      <td>200296</td>\n",
       "      <td>17</td>\n",
       "      <td>620501001</td>\n",
       "      <td>Ciclo Otto</td>\n",
       "      <td>SUL</td>\n",
       "      <td>23</td>\n",
       "      <td>5040</td>\n",
       "    </tr>\n",
       "  </tbody>\n",
       "</table>\n",
       "</div>"
      ],
      "text/plain": [
       "      Data  Cód Regulado ANP  UF_origem  Código do Produto  \\\n",
       "0  12/2016            200296         17          620101002   \n",
       "1  12/2016            200296         17          620101002   \n",
       "2  12/2016            200296         17          620501001   \n",
       "3  12/2016            200296         17          620501001   \n",
       "4  12/2016            200296         17          620501001   \n",
       "\n",
       "                   Descrição do Produto Região do Destinatário  UF_destino  \\\n",
       "0  ENGRENAGENS E SISTEMAS CIRCULATÓRIOS                    SUL          17   \n",
       "1  ENGRENAGENS E SISTEMAS CIRCULATÓRIOS                    SUL          23   \n",
       "2                            Ciclo Otto                    SUL          17   \n",
       "3                            Ciclo Otto                    SUL          22   \n",
       "4                            Ciclo Otto                    SUL          23   \n",
       "\n",
       "   Volume-Litros  \n",
       "0           9828  \n",
       "1            800  \n",
       "2           3685  \n",
       "3            480  \n",
       "4           5040  "
      ]
     },
     "execution_count": 36,
     "metadata": {},
     "output_type": "execute_result"
    }
   ],
   "source": [
    "#VERIFICACÃO DA CODIFICACAO\n",
    "vendas_uf.head()"
   ]
  },
  {
   "cell_type": "code",
   "execution_count": 40,
   "metadata": {},
   "outputs": [
    {
     "ename": "NameError",
     "evalue": "name 'dict_list_source' is not defined",
     "output_type": "error",
     "traceback": [
      "\u001b[0;31m---------------------------------------------------------------------------\u001b[0m",
      "\u001b[0;31mNameError\u001b[0m                                 Traceback (most recent call last)",
      "\u001b[0;32m<ipython-input-40-3e2407c7724b>\u001b[0m in \u001b[0;36m<module>\u001b[0;34m()\u001b[0m\n\u001b[1;32m      1\u001b[0m \u001b[1;31m#CRIAR UMA LISTA DE DICIONÁRIOS PARA RECEBER OS DADOS AGREGADOS DE LIGAÇÃO ENTRE A ORIGEM DA VENDA E O DESTINO\u001b[0m\u001b[1;33m\u001b[0m\u001b[1;33m\u001b[0m\u001b[0m\n\u001b[1;32m      2\u001b[0m \u001b[0mlista_dict_agg\u001b[0m \u001b[1;33m=\u001b[0m \u001b[1;33m[\u001b[0m\u001b[1;33m]\u001b[0m\u001b[1;33m\u001b[0m\u001b[0m\n\u001b[0;32m----> 3\u001b[0;31m \u001b[1;32mfor\u001b[0m \u001b[0mkey\u001b[0m\u001b[1;33m,\u001b[0m\u001b[0mvalues\u001b[0m \u001b[1;32min\u001b[0m \u001b[0mdict_list_source\u001b[0m\u001b[1;33m.\u001b[0m\u001b[0mitems\u001b[0m\u001b[1;33m(\u001b[0m\u001b[1;33m)\u001b[0m\u001b[1;33m:\u001b[0m\u001b[1;33m\u001b[0m\u001b[0m\n\u001b[0m\u001b[1;32m      4\u001b[0m     \u001b[1;32mfor\u001b[0m \u001b[0mval\u001b[0m \u001b[1;32min\u001b[0m \u001b[0mvalues\u001b[0m\u001b[1;33m.\u001b[0m\u001b[0mitems\u001b[0m\u001b[1;33m(\u001b[0m\u001b[1;33m)\u001b[0m\u001b[1;33m:\u001b[0m\u001b[1;33m\u001b[0m\u001b[0m\n\u001b[1;32m      5\u001b[0m         \u001b[0mdict_links\u001b[0m \u001b[1;33m=\u001b[0m \u001b[1;33m{\u001b[0m\u001b[1;34m\"source\"\u001b[0m\u001b[1;33m:\u001b[0m \u001b[0mkey\u001b[0m\u001b[1;33m,\u001b[0m \u001b[1;34m\"target\"\u001b[0m\u001b[1;33m:\u001b[0m \u001b[0mval\u001b[0m\u001b[1;33m[\u001b[0m\u001b[1;36m0\u001b[0m\u001b[1;33m]\u001b[0m\u001b[1;33m,\u001b[0m \u001b[1;34m\"value\"\u001b[0m\u001b[1;33m:\u001b[0m \u001b[0mval\u001b[0m\u001b[1;33m[\u001b[0m\u001b[1;36m1\u001b[0m\u001b[1;33m]\u001b[0m\u001b[1;33m}\u001b[0m\u001b[1;33m\u001b[0m\u001b[0m\n",
      "\u001b[0;31mNameError\u001b[0m: name 'dict_list_source' is not defined"
     ]
    }
   ],
   "source": [
    "#CRIAR UMA LISTA DE DICIONÁRIOS PARA RECEBER OS DADOS AGREGADOS DE LIGAÇÃO ENTRE A ORIGEM DA VENDA E O DESTINO\n",
    "lista_dict_agg = []\n",
    "for key,values in dict_list_source.items():\n",
    "    for val in values.items():\n",
    "        dict_links = {\"source\": key, \"target\": val[0], \"value\": val[1]}\n",
    "        lista_dict_agg.append(dict_links)"
   ]
  }
 ],
 "metadata": {
  "kernelspec": {
   "display_name": "Python [Root]",
   "language": "python",
   "name": "Python [Root]"
  },
  "language_info": {
   "codemirror_mode": {
    "name": "ipython",
    "version": 3
   },
   "file_extension": ".py",
   "mimetype": "text/x-python",
   "name": "python",
   "nbconvert_exporter": "python",
   "pygments_lexer": "ipython3",
   "version": "3.5.2"
  }
 },
 "nbformat": 4,
 "nbformat_minor": 2
}
