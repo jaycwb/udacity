{
 "cells": [
  {
   "cell_type": "code",
   "execution_count": 5,
   "metadata": {},
   "outputs": [],
   "source": [
    "#CARREGA O ARQUIVO\n",
    "import pandas as pd\n",
    "dado = pd.read_excel(\"../data/Boletim_1/Anexo_G-Producao_nacional_de_OLAC.xlsx\", sheetname=\"71-Producao OLAC Geral\")"
   ]
  },
  {
   "cell_type": "code",
   "execution_count": 7,
   "metadata": {},
   "outputs": [
    {
     "data": {
      "text/html": [
       "<div>\n",
       "<table border=\"1\" class=\"dataframe\">\n",
       "  <thead>\n",
       "    <tr style=\"text-align: right;\">\n",
       "      <th></th>\n",
       "      <th>Data</th>\n",
       "      <th>Código do Produto</th>\n",
       "      <th>Descrição do Produto</th>\n",
       "      <th>Região do Produtor</th>\n",
       "      <th>UF do Produtor</th>\n",
       "      <th>Descrição da Operação</th>\n",
       "      <th>Volume-Litros</th>\n",
       "    </tr>\n",
       "  </thead>\n",
       "  <tbody>\n",
       "    <tr>\n",
       "      <th>0</th>\n",
       "      <td>12/2016</td>\n",
       "      <td>620101002</td>\n",
       "      <td>ENGRENAGENS E SISTEMAS CIRCULATÓRIOS</td>\n",
       "      <td>NORDESTE</td>\n",
       "      <td>BA</td>\n",
       "      <td>PRODUÇÃO POR MISTURA</td>\n",
       "      <td>58045</td>\n",
       "    </tr>\n",
       "    <tr>\n",
       "      <th>1</th>\n",
       "      <td>12/2016</td>\n",
       "      <td>620101002</td>\n",
       "      <td>ENGRENAGENS E SISTEMAS CIRCULATÓRIOS</td>\n",
       "      <td>SUDESTE</td>\n",
       "      <td>MG</td>\n",
       "      <td>Produção por Mistura</td>\n",
       "      <td>121440</td>\n",
       "    </tr>\n",
       "    <tr>\n",
       "      <th>2</th>\n",
       "      <td>12/2016</td>\n",
       "      <td>620101002</td>\n",
       "      <td>ENGRENAGENS E SISTEMAS CIRCULATÓRIOS</td>\n",
       "      <td>SUDESTE</td>\n",
       "      <td>MG</td>\n",
       "      <td>Mistura de Produtos</td>\n",
       "      <td>620</td>\n",
       "    </tr>\n",
       "    <tr>\n",
       "      <th>3</th>\n",
       "      <td>12/2016</td>\n",
       "      <td>620101002</td>\n",
       "      <td>ENGRENAGENS E SISTEMAS CIRCULATÓRIOS</td>\n",
       "      <td>SUL</td>\n",
       "      <td>PR</td>\n",
       "      <td>Produção por Mistura</td>\n",
       "      <td>8804</td>\n",
       "    </tr>\n",
       "    <tr>\n",
       "      <th>4</th>\n",
       "      <td>12/2016</td>\n",
       "      <td>620101002</td>\n",
       "      <td>ENGRENAGENS E SISTEMAS CIRCULATÓRIOS</td>\n",
       "      <td>SUDESTE</td>\n",
       "      <td>RJ</td>\n",
       "      <td>Produção por Mistura</td>\n",
       "      <td>3927364</td>\n",
       "    </tr>\n",
       "  </tbody>\n",
       "</table>\n",
       "</div>"
      ],
      "text/plain": [
       "      Data  Código do Produto                  Descrição do Produto  \\\n",
       "0  12/2016          620101002  ENGRENAGENS E SISTEMAS CIRCULATÓRIOS   \n",
       "1  12/2016          620101002  ENGRENAGENS E SISTEMAS CIRCULATÓRIOS   \n",
       "2  12/2016          620101002  ENGRENAGENS E SISTEMAS CIRCULATÓRIOS   \n",
       "3  12/2016          620101002  ENGRENAGENS E SISTEMAS CIRCULATÓRIOS   \n",
       "4  12/2016          620101002  ENGRENAGENS E SISTEMAS CIRCULATÓRIOS   \n",
       "\n",
       "  Região do Produtor UF do Produtor Descrição da Operação  Volume-Litros  \n",
       "0           NORDESTE             BA  PRODUÇÃO POR MISTURA          58045  \n",
       "1            SUDESTE             MG  Produção por Mistura         121440  \n",
       "2            SUDESTE             MG   Mistura de Produtos            620  \n",
       "3                SUL             PR  Produção por Mistura           8804  \n",
       "4            SUDESTE             RJ  Produção por Mistura        3927364  "
      ]
     },
     "execution_count": 7,
     "metadata": {},
     "output_type": "execute_result"
    }
   ],
   "source": [
    "#PREVIA DOS DADOS\n",
    "dado.head()"
   ]
  },
  {
   "cell_type": "code",
   "execution_count": 8,
   "metadata": {
    "collapsed": true
   },
   "outputs": [],
   "source": [
    "#FILTRA AS COLUNAS DE INTERESSE\n",
    "dado = dado[['Data', 'Descrição do Produto','Região do Produtor', 'UF do Produtor', 'Volume-Litros']]"
   ]
  },
  {
   "cell_type": "code",
   "execution_count": 10,
   "metadata": {},
   "outputs": [],
   "source": [
    "#RENOMEIA AS COLUNAS\n",
    "dado.columns = ['data','category','region','uf','volume']"
   ]
  },
  {
   "cell_type": "code",
   "execution_count": 11,
   "metadata": {},
   "outputs": [
    {
     "data": {
      "text/html": [
       "<div>\n",
       "<table border=\"1\" class=\"dataframe\">\n",
       "  <thead>\n",
       "    <tr style=\"text-align: right;\">\n",
       "      <th></th>\n",
       "      <th>data</th>\n",
       "      <th>category</th>\n",
       "      <th>region</th>\n",
       "      <th>uf</th>\n",
       "      <th>volume</th>\n",
       "    </tr>\n",
       "  </thead>\n",
       "  <tbody>\n",
       "    <tr>\n",
       "      <th>0</th>\n",
       "      <td>12/2016</td>\n",
       "      <td>ENGRENAGENS E SISTEMAS CIRCULATÓRIOS</td>\n",
       "      <td>NORDESTE</td>\n",
       "      <td>BA</td>\n",
       "      <td>58045</td>\n",
       "    </tr>\n",
       "    <tr>\n",
       "      <th>1</th>\n",
       "      <td>12/2016</td>\n",
       "      <td>ENGRENAGENS E SISTEMAS CIRCULATÓRIOS</td>\n",
       "      <td>SUDESTE</td>\n",
       "      <td>MG</td>\n",
       "      <td>121440</td>\n",
       "    </tr>\n",
       "    <tr>\n",
       "      <th>2</th>\n",
       "      <td>12/2016</td>\n",
       "      <td>ENGRENAGENS E SISTEMAS CIRCULATÓRIOS</td>\n",
       "      <td>SUDESTE</td>\n",
       "      <td>MG</td>\n",
       "      <td>620</td>\n",
       "    </tr>\n",
       "    <tr>\n",
       "      <th>3</th>\n",
       "      <td>12/2016</td>\n",
       "      <td>ENGRENAGENS E SISTEMAS CIRCULATÓRIOS</td>\n",
       "      <td>SUL</td>\n",
       "      <td>PR</td>\n",
       "      <td>8804</td>\n",
       "    </tr>\n",
       "    <tr>\n",
       "      <th>4</th>\n",
       "      <td>12/2016</td>\n",
       "      <td>ENGRENAGENS E SISTEMAS CIRCULATÓRIOS</td>\n",
       "      <td>SUDESTE</td>\n",
       "      <td>RJ</td>\n",
       "      <td>3927364</td>\n",
       "    </tr>\n",
       "  </tbody>\n",
       "</table>\n",
       "</div>"
      ],
      "text/plain": [
       "      data                              category    region  uf   volume\n",
       "0  12/2016  ENGRENAGENS E SISTEMAS CIRCULATÓRIOS  NORDESTE  BA    58045\n",
       "1  12/2016  ENGRENAGENS E SISTEMAS CIRCULATÓRIOS   SUDESTE  MG   121440\n",
       "2  12/2016  ENGRENAGENS E SISTEMAS CIRCULATÓRIOS   SUDESTE  MG      620\n",
       "3  12/2016  ENGRENAGENS E SISTEMAS CIRCULATÓRIOS       SUL  PR     8804\n",
       "4  12/2016  ENGRENAGENS E SISTEMAS CIRCULATÓRIOS   SUDESTE  RJ  3927364"
      ]
     },
     "execution_count": 11,
     "metadata": {},
     "output_type": "execute_result"
    }
   ],
   "source": [
    "#PRÉVIA DO DATAFRAME MODIFICADO\n",
    "dado.head()"
   ]
  },
  {
   "cell_type": "code",
   "execution_count": 14,
   "metadata": {},
   "outputs": [],
   "source": [
    "#EXPORTA O ARQUIVO PARA CSV\n",
    "dado.to_csv(\"../data/producao_olac_litros.csv\", sep=',', index=False)"
   ]
  }
 ],
 "metadata": {
  "anaconda-cloud": {},
  "kernelspec": {
   "display_name": "Python [Root]",
   "language": "python",
   "name": "Python [Root]"
  },
  "language_info": {
   "codemirror_mode": {
    "name": "ipython",
    "version": 3
   },
   "file_extension": ".py",
   "mimetype": "text/x-python",
   "name": "python",
   "nbconvert_exporter": "python",
   "pygments_lexer": "ipython3",
   "version": "3.5.2"
  }
 },
 "nbformat": 4,
 "nbformat_minor": 2
}
