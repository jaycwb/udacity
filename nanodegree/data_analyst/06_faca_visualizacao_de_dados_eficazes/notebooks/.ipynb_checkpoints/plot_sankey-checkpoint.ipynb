{
 "cells": [
  {
   "cell_type": "code",
   "execution_count": 1,
   "metadata": {
    "collapsed": true
   },
   "outputs": [],
   "source": [
    "#CARREGA AS LIBRARYS\n",
    "library(networkD3)\n",
    "library(jsonlite)\n",
    "library(magrittr)"
   ]
  },
  {
   "cell_type": "code",
   "execution_count": 2,
   "metadata": {
    "collapsed": true
   },
   "outputs": [],
   "source": [
    "#CARREGA O ARQUIVO JSON\n",
    "Energy <- jsonlite::fromJSON(\"../data/vendas_olac_agg.json\")"
   ]
  },
  {
   "cell_type": "code",
   "execution_count": 3,
   "metadata": {
    "collapsed": true
   },
   "outputs": [],
   "source": [
    "#SALVA O ARQUIVO\n",
    "sankeyNetwork(Links = Energy$links, Nodes = Energy$nodes, Source = \"source\",\n",
    "             Target = \"target\", Value = \"value\", NodeID = \"name\",\n",
    "             units = \"m³\", fontSize = 12, nodeWidth = 30) %>% saveNetwork(file = '../graphs/sankey_diagram.html')"
   ]
  }
 ],
 "metadata": {
  "anaconda-cloud": {},
  "hide_input": false,
  "kernelspec": {
   "display_name": "R",
   "language": "R",
   "name": "ir"
  },
  "language_info": {
   "codemirror_mode": "r",
   "file_extension": ".r",
   "mimetype": "text/x-r-source",
   "name": "R",
   "pygments_lexer": "r",
   "version": "3.3.2"
  }
 },
 "nbformat": 4,
 "nbformat_minor": 2
}
