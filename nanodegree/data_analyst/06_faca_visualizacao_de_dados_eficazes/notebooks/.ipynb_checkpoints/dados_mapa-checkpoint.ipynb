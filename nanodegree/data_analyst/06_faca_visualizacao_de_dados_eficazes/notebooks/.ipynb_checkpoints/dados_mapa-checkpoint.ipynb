{
 "cells": [
  {
   "cell_type": "markdown",
   "metadata": {},
   "source": [
    "# 1. ABRIR, EDITAR E EXPORTAR ARQUIVO"
   ]
  },
  {
   "cell_type": "code",
   "execution_count": 1,
   "metadata": {
    "collapsed": true
   },
   "outputs": [],
   "source": [
    "#IMPORTA A BIBLIOTECA PANDAS E CARREGA O ARQUIVO\n",
    "import pandas as pd\n",
    "#CARREGA OS DADOS DE PRODUÇÃO DO ANO DE 2016\n",
    "dado = pd.read_excel(\"../data/Boletim_1/Anexo_G-Producao_nacional_de_OLAC.xlsx\", sheetname=\"71-Producao OLAC Geral\")"
   ]
  },
  {
   "cell_type": "code",
   "execution_count": 2,
   "metadata": {},
   "outputs": [
    {
     "data": {
      "text/html": [
       "<div>\n",
       "<table border=\"1\" class=\"dataframe\">\n",
       "  <thead>\n",
       "    <tr style=\"text-align: right;\">\n",
       "      <th></th>\n",
       "      <th>Data</th>\n",
       "      <th>Código do Produto</th>\n",
       "      <th>Descrição do Produto</th>\n",
       "      <th>Região do Produtor</th>\n",
       "      <th>UF do Produtor</th>\n",
       "      <th>Descrição da Operação</th>\n",
       "      <th>Volume-Litros</th>\n",
       "    </tr>\n",
       "  </thead>\n",
       "  <tbody>\n",
       "    <tr>\n",
       "      <th>0</th>\n",
       "      <td>12/2016</td>\n",
       "      <td>620101002</td>\n",
       "      <td>ENGRENAGENS E SISTEMAS CIRCULATÓRIOS</td>\n",
       "      <td>NORDESTE</td>\n",
       "      <td>BA</td>\n",
       "      <td>PRODUÇÃO POR MISTURA</td>\n",
       "      <td>58045</td>\n",
       "    </tr>\n",
       "    <tr>\n",
       "      <th>1</th>\n",
       "      <td>12/2016</td>\n",
       "      <td>620101002</td>\n",
       "      <td>ENGRENAGENS E SISTEMAS CIRCULATÓRIOS</td>\n",
       "      <td>SUDESTE</td>\n",
       "      <td>MG</td>\n",
       "      <td>Produção por Mistura</td>\n",
       "      <td>121440</td>\n",
       "    </tr>\n",
       "    <tr>\n",
       "      <th>2</th>\n",
       "      <td>12/2016</td>\n",
       "      <td>620101002</td>\n",
       "      <td>ENGRENAGENS E SISTEMAS CIRCULATÓRIOS</td>\n",
       "      <td>SUDESTE</td>\n",
       "      <td>MG</td>\n",
       "      <td>Mistura de Produtos</td>\n",
       "      <td>620</td>\n",
       "    </tr>\n",
       "    <tr>\n",
       "      <th>3</th>\n",
       "      <td>12/2016</td>\n",
       "      <td>620101002</td>\n",
       "      <td>ENGRENAGENS E SISTEMAS CIRCULATÓRIOS</td>\n",
       "      <td>SUL</td>\n",
       "      <td>PR</td>\n",
       "      <td>Produção por Mistura</td>\n",
       "      <td>8804</td>\n",
       "    </tr>\n",
       "    <tr>\n",
       "      <th>4</th>\n",
       "      <td>12/2016</td>\n",
       "      <td>620101002</td>\n",
       "      <td>ENGRENAGENS E SISTEMAS CIRCULATÓRIOS</td>\n",
       "      <td>SUDESTE</td>\n",
       "      <td>RJ</td>\n",
       "      <td>Produção por Mistura</td>\n",
       "      <td>3927364</td>\n",
       "    </tr>\n",
       "  </tbody>\n",
       "</table>\n",
       "</div>"
      ],
      "text/plain": [
       "      Data  Código do Produto                  Descrição do Produto  \\\n",
       "0  12/2016          620101002  ENGRENAGENS E SISTEMAS CIRCULATÓRIOS   \n",
       "1  12/2016          620101002  ENGRENAGENS E SISTEMAS CIRCULATÓRIOS   \n",
       "2  12/2016          620101002  ENGRENAGENS E SISTEMAS CIRCULATÓRIOS   \n",
       "3  12/2016          620101002  ENGRENAGENS E SISTEMAS CIRCULATÓRIOS   \n",
       "4  12/2016          620101002  ENGRENAGENS E SISTEMAS CIRCULATÓRIOS   \n",
       "\n",
       "  Região do Produtor UF do Produtor Descrição da Operação  Volume-Litros  \n",
       "0           NORDESTE             BA  PRODUÇÃO POR MISTURA          58045  \n",
       "1            SUDESTE             MG  Produção por Mistura         121440  \n",
       "2            SUDESTE             MG   Mistura de Produtos            620  \n",
       "3                SUL             PR  Produção por Mistura           8804  \n",
       "4            SUDESTE             RJ  Produção por Mistura        3927364  "
      ]
     },
     "execution_count": 2,
     "metadata": {},
     "output_type": "execute_result"
    }
   ],
   "source": [
    "#PREVIA DOS DADOS\n",
    "dado.head()"
   ]
  },
  {
   "cell_type": "code",
   "execution_count": 3,
   "metadata": {
    "collapsed": true
   },
   "outputs": [],
   "source": [
    "#FILTRA AS COLUNAS DE INTERESSE\n",
    "dado = dado[['Data', 'Descrição do Produto','Região do Produtor', 'UF do Produtor', 'Volume-Litros']]"
   ]
  },
  {
   "cell_type": "code",
   "execution_count": 4,
   "metadata": {
    "collapsed": true
   },
   "outputs": [],
   "source": [
    "#RENOMEIA AS COLUNAS\n",
    "dado.columns = ['data','category','region','uf','volume']"
   ]
  },
  {
   "cell_type": "code",
   "execution_count": 5,
   "metadata": {},
   "outputs": [
    {
     "data": {
      "text/html": [
       "<div>\n",
       "<table border=\"1\" class=\"dataframe\">\n",
       "  <thead>\n",
       "    <tr style=\"text-align: right;\">\n",
       "      <th></th>\n",
       "      <th>data</th>\n",
       "      <th>category</th>\n",
       "      <th>region</th>\n",
       "      <th>uf</th>\n",
       "      <th>volume</th>\n",
       "    </tr>\n",
       "  </thead>\n",
       "  <tbody>\n",
       "    <tr>\n",
       "      <th>0</th>\n",
       "      <td>12/2016</td>\n",
       "      <td>ENGRENAGENS E SISTEMAS CIRCULATÓRIOS</td>\n",
       "      <td>NORDESTE</td>\n",
       "      <td>BA</td>\n",
       "      <td>58045</td>\n",
       "    </tr>\n",
       "    <tr>\n",
       "      <th>1</th>\n",
       "      <td>12/2016</td>\n",
       "      <td>ENGRENAGENS E SISTEMAS CIRCULATÓRIOS</td>\n",
       "      <td>SUDESTE</td>\n",
       "      <td>MG</td>\n",
       "      <td>121440</td>\n",
       "    </tr>\n",
       "    <tr>\n",
       "      <th>2</th>\n",
       "      <td>12/2016</td>\n",
       "      <td>ENGRENAGENS E SISTEMAS CIRCULATÓRIOS</td>\n",
       "      <td>SUDESTE</td>\n",
       "      <td>MG</td>\n",
       "      <td>620</td>\n",
       "    </tr>\n",
       "    <tr>\n",
       "      <th>3</th>\n",
       "      <td>12/2016</td>\n",
       "      <td>ENGRENAGENS E SISTEMAS CIRCULATÓRIOS</td>\n",
       "      <td>SUL</td>\n",
       "      <td>PR</td>\n",
       "      <td>8804</td>\n",
       "    </tr>\n",
       "    <tr>\n",
       "      <th>4</th>\n",
       "      <td>12/2016</td>\n",
       "      <td>ENGRENAGENS E SISTEMAS CIRCULATÓRIOS</td>\n",
       "      <td>SUDESTE</td>\n",
       "      <td>RJ</td>\n",
       "      <td>3927364</td>\n",
       "    </tr>\n",
       "  </tbody>\n",
       "</table>\n",
       "</div>"
      ],
      "text/plain": [
       "      data                              category    region  uf   volume\n",
       "0  12/2016  ENGRENAGENS E SISTEMAS CIRCULATÓRIOS  NORDESTE  BA    58045\n",
       "1  12/2016  ENGRENAGENS E SISTEMAS CIRCULATÓRIOS   SUDESTE  MG   121440\n",
       "2  12/2016  ENGRENAGENS E SISTEMAS CIRCULATÓRIOS   SUDESTE  MG      620\n",
       "3  12/2016  ENGRENAGENS E SISTEMAS CIRCULATÓRIOS       SUL  PR     8804\n",
       "4  12/2016  ENGRENAGENS E SISTEMAS CIRCULATÓRIOS   SUDESTE  RJ  3927364"
      ]
     },
     "execution_count": 5,
     "metadata": {},
     "output_type": "execute_result"
    }
   ],
   "source": [
    "#PRÉVIA DO DATAFRAME MODIFICADO\n",
    "dado.head()"
   ]
  },
  {
   "cell_type": "code",
   "execution_count": 6,
   "metadata": {
    "collapsed": true
   },
   "outputs": [],
   "source": [
    "#EXPORTA O ARQUIVO PARA CSV\n",
    "dado.to_csv(\"../data/producao_olac_litros.csv\", sep=',', index=False)"
   ]
  },
  {
   "cell_type": "code",
   "execution_count": 7,
   "metadata": {},
   "outputs": [],
   "source": [
    "#MODIFICAR A COLUNA PARA METROS CÚBICOS EM DECORRÊNCIA DO FEEDBACK RECEBIDO\n",
    "dado.volume = dado.volume.apply(lambda x: x/1000)"
   ]
  },
  {
   "cell_type": "code",
   "execution_count": 8,
   "metadata": {},
   "outputs": [
    {
     "data": {
      "text/html": [
       "<div>\n",
       "<table border=\"1\" class=\"dataframe\">\n",
       "  <thead>\n",
       "    <tr style=\"text-align: right;\">\n",
       "      <th></th>\n",
       "      <th>data</th>\n",
       "      <th>category</th>\n",
       "      <th>region</th>\n",
       "      <th>uf</th>\n",
       "      <th>volume</th>\n",
       "    </tr>\n",
       "  </thead>\n",
       "  <tbody>\n",
       "    <tr>\n",
       "      <th>0</th>\n",
       "      <td>12/2016</td>\n",
       "      <td>ENGRENAGENS E SISTEMAS CIRCULATÓRIOS</td>\n",
       "      <td>NORDESTE</td>\n",
       "      <td>BA</td>\n",
       "      <td>58.045</td>\n",
       "    </tr>\n",
       "    <tr>\n",
       "      <th>1</th>\n",
       "      <td>12/2016</td>\n",
       "      <td>ENGRENAGENS E SISTEMAS CIRCULATÓRIOS</td>\n",
       "      <td>SUDESTE</td>\n",
       "      <td>MG</td>\n",
       "      <td>121.440</td>\n",
       "    </tr>\n",
       "    <tr>\n",
       "      <th>2</th>\n",
       "      <td>12/2016</td>\n",
       "      <td>ENGRENAGENS E SISTEMAS CIRCULATÓRIOS</td>\n",
       "      <td>SUDESTE</td>\n",
       "      <td>MG</td>\n",
       "      <td>0.620</td>\n",
       "    </tr>\n",
       "    <tr>\n",
       "      <th>3</th>\n",
       "      <td>12/2016</td>\n",
       "      <td>ENGRENAGENS E SISTEMAS CIRCULATÓRIOS</td>\n",
       "      <td>SUL</td>\n",
       "      <td>PR</td>\n",
       "      <td>8.804</td>\n",
       "    </tr>\n",
       "    <tr>\n",
       "      <th>4</th>\n",
       "      <td>12/2016</td>\n",
       "      <td>ENGRENAGENS E SISTEMAS CIRCULATÓRIOS</td>\n",
       "      <td>SUDESTE</td>\n",
       "      <td>RJ</td>\n",
       "      <td>3927.364</td>\n",
       "    </tr>\n",
       "  </tbody>\n",
       "</table>\n",
       "</div>"
      ],
      "text/plain": [
       "      data                              category    region  uf    volume\n",
       "0  12/2016  ENGRENAGENS E SISTEMAS CIRCULATÓRIOS  NORDESTE  BA    58.045\n",
       "1  12/2016  ENGRENAGENS E SISTEMAS CIRCULATÓRIOS   SUDESTE  MG   121.440\n",
       "2  12/2016  ENGRENAGENS E SISTEMAS CIRCULATÓRIOS   SUDESTE  MG     0.620\n",
       "3  12/2016  ENGRENAGENS E SISTEMAS CIRCULATÓRIOS       SUL  PR     8.804\n",
       "4  12/2016  ENGRENAGENS E SISTEMAS CIRCULATÓRIOS   SUDESTE  RJ  3927.364"
      ]
     },
     "execution_count": 8,
     "metadata": {},
     "output_type": "execute_result"
    }
   ],
   "source": [
    "dado.head()"
   ]
  },
  {
   "cell_type": "code",
   "execution_count": 9,
   "metadata": {
    "collapsed": true
   },
   "outputs": [],
   "source": [
    "#EXPORTA NOVO ARQUIVO PARA CSV\n",
    "dado.to_csv(\"../data/producao_olac_M3.csv\", sep=',', index=False)"
   ]
  },
  {
   "cell_type": "markdown",
   "metadata": {},
   "source": [
    "# 2. ANÁLISE EXPLORATÓRIA"
   ]
  },
  {
   "cell_type": "code",
   "execution_count": 14,
   "metadata": {},
   "outputs": [
    {
     "data": {
      "text/plain": [
       "(array(['BA', 'MG', 'PR', 'RJ', 'RS', 'SP', 'AM', 'MS', 'MT', 'PA', 'CE',\n",
       "        'GO'], dtype=object), 12)"
      ]
     },
     "execution_count": 14,
     "metadata": {},
     "output_type": "execute_result"
    }
   ],
   "source": [
    "#AO TODO 12 UNIDADES DA FEDERAÇÃO POSSUEM REGISTRO PRODUÇÃO DE ÓLEO LUBRIFICANTE ACABADO (OLAC)\n",
    "dado['uf'].unique(), len(dado['uf'].unique().tolist())"
   ]
  },
  {
   "cell_type": "code",
   "execution_count": 21,
   "metadata": {},
   "outputs": [
    {
     "data": {
      "text/html": [
       "<div>\n",
       "<table border=\"1\" class=\"dataframe\">\n",
       "  <thead>\n",
       "    <tr style=\"text-align: right;\">\n",
       "      <th></th>\n",
       "      <th>volume</th>\n",
       "    </tr>\n",
       "    <tr>\n",
       "      <th>uf</th>\n",
       "      <th></th>\n",
       "    </tr>\n",
       "  </thead>\n",
       "  <tbody>\n",
       "    <tr>\n",
       "      <th>AM</th>\n",
       "      <td>1530.939</td>\n",
       "    </tr>\n",
       "    <tr>\n",
       "      <th>BA</th>\n",
       "      <td>5572.009</td>\n",
       "    </tr>\n",
       "    <tr>\n",
       "      <th>CE</th>\n",
       "      <td>454.324</td>\n",
       "    </tr>\n",
       "    <tr>\n",
       "      <th>GO</th>\n",
       "      <td>24.344</td>\n",
       "    </tr>\n",
       "    <tr>\n",
       "      <th>MG</th>\n",
       "      <td>302977.640</td>\n",
       "    </tr>\n",
       "    <tr>\n",
       "      <th>MS</th>\n",
       "      <td>1507.397</td>\n",
       "    </tr>\n",
       "    <tr>\n",
       "      <th>MT</th>\n",
       "      <td>400.468</td>\n",
       "    </tr>\n",
       "    <tr>\n",
       "      <th>PA</th>\n",
       "      <td>0.400</td>\n",
       "    </tr>\n",
       "    <tr>\n",
       "      <th>PR</th>\n",
       "      <td>15394.916</td>\n",
       "    </tr>\n",
       "    <tr>\n",
       "      <th>RJ</th>\n",
       "      <td>1347768.383</td>\n",
       "    </tr>\n",
       "    <tr>\n",
       "      <th>RS</th>\n",
       "      <td>4904.314</td>\n",
       "    </tr>\n",
       "    <tr>\n",
       "      <th>SP</th>\n",
       "      <td>509508.127</td>\n",
       "    </tr>\n",
       "  </tbody>\n",
       "</table>\n",
       "</div>"
      ],
      "text/plain": [
       "         volume\n",
       "uf             \n",
       "AM     1530.939\n",
       "BA     5572.009\n",
       "CE      454.324\n",
       "GO       24.344\n",
       "MG   302977.640\n",
       "MS     1507.397\n",
       "MT      400.468\n",
       "PA        0.400\n",
       "PR    15394.916\n",
       "RJ  1347768.383\n",
       "RS     4904.314\n",
       "SP   509508.127"
      ]
     },
     "execution_count": 21,
     "metadata": {},
     "output_type": "execute_result"
    }
   ],
   "source": [
    "#VOLUME DE PRODUÇÃO DE OLAC - EM METROS CÚBICOS - POR UNIDADE DA FEDERAÇÃO\n",
    "producao_uf = dado.groupby(['uf']).sum()\n",
    "producao_uf"
   ]
  },
  {
   "cell_type": "code",
   "execution_count": 22,
   "metadata": {},
   "outputs": [
    {
     "data": {
      "text/plain": [
       "2190043.2609999995"
      ]
     },
     "execution_count": 22,
     "metadata": {},
     "output_type": "execute_result"
    }
   ],
   "source": [
    "#VOLUME TOTAL PRODUZIDO DE OLAC NO ANO DE 2016\n",
    "total_volume = producao_uf['volume'].sum()\n",
    "total_volume"
   ]
  },
  {
   "cell_type": "code",
   "execution_count": 23,
   "metadata": {
    "collapsed": true
   },
   "outputs": [],
   "source": [
    "#TRANSFORMA OS DADOS PARA UMA REPRESENTAÇÃO PERCENTUAL DE SUAS RESPECTIVAS PRODUÇÕES COMPARADAS AO TOTAL PRODUZIDO NO BRASIL\n",
    "producao_uf['volume'] = producao_uf['volume'].apply(lambda x : str(round((x / total_volume*100),3))+\" %\" )"
   ]
  },
  {
   "cell_type": "code",
   "execution_count": 24,
   "metadata": {},
   "outputs": [
    {
     "data": {
      "text/html": [
       "<div>\n",
       "<table border=\"1\" class=\"dataframe\">\n",
       "  <thead>\n",
       "    <tr style=\"text-align: right;\">\n",
       "      <th></th>\n",
       "      <th>volume</th>\n",
       "    </tr>\n",
       "    <tr>\n",
       "      <th>uf</th>\n",
       "      <th></th>\n",
       "    </tr>\n",
       "  </thead>\n",
       "  <tbody>\n",
       "    <tr>\n",
       "      <th>AM</th>\n",
       "      <td>0.07 %</td>\n",
       "    </tr>\n",
       "    <tr>\n",
       "      <th>BA</th>\n",
       "      <td>0.254 %</td>\n",
       "    </tr>\n",
       "    <tr>\n",
       "      <th>CE</th>\n",
       "      <td>0.021 %</td>\n",
       "    </tr>\n",
       "    <tr>\n",
       "      <th>GO</th>\n",
       "      <td>0.001 %</td>\n",
       "    </tr>\n",
       "    <tr>\n",
       "      <th>MG</th>\n",
       "      <td>13.834 %</td>\n",
       "    </tr>\n",
       "    <tr>\n",
       "      <th>MS</th>\n",
       "      <td>0.069 %</td>\n",
       "    </tr>\n",
       "    <tr>\n",
       "      <th>MT</th>\n",
       "      <td>0.018 %</td>\n",
       "    </tr>\n",
       "    <tr>\n",
       "      <th>PA</th>\n",
       "      <td>0.0 %</td>\n",
       "    </tr>\n",
       "    <tr>\n",
       "      <th>PR</th>\n",
       "      <td>0.703 %</td>\n",
       "    </tr>\n",
       "    <tr>\n",
       "      <th>RJ</th>\n",
       "      <td>61.541 %</td>\n",
       "    </tr>\n",
       "    <tr>\n",
       "      <th>RS</th>\n",
       "      <td>0.224 %</td>\n",
       "    </tr>\n",
       "    <tr>\n",
       "      <th>SP</th>\n",
       "      <td>23.265 %</td>\n",
       "    </tr>\n",
       "  </tbody>\n",
       "</table>\n",
       "</div>"
      ],
      "text/plain": [
       "      volume\n",
       "uf          \n",
       "AM    0.07 %\n",
       "BA   0.254 %\n",
       "CE   0.021 %\n",
       "GO   0.001 %\n",
       "MG  13.834 %\n",
       "MS   0.069 %\n",
       "MT   0.018 %\n",
       "PA     0.0 %\n",
       "PR   0.703 %\n",
       "RJ  61.541 %\n",
       "RS   0.224 %\n",
       "SP  23.265 %"
      ]
     },
     "execution_count": 24,
     "metadata": {},
     "output_type": "execute_result"
    }
   ],
   "source": [
    "producao_uf"
   ]
  }
 ],
 "metadata": {
  "anaconda-cloud": {},
  "kernelspec": {
   "display_name": "Python [Root]",
   "language": "python",
   "name": "Python [Root]"
  },
  "language_info": {
   "codemirror_mode": {
    "name": "ipython",
    "version": 3
   },
   "file_extension": ".py",
   "mimetype": "text/x-python",
   "name": "python",
   "nbconvert_exporter": "python",
   "pygments_lexer": "ipython3",
   "version": "3.5.2"
  }
 },
 "nbformat": 4,
 "nbformat_minor": 2
}
